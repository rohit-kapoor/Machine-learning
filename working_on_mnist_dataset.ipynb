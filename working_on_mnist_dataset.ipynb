{
  "nbformat": 4,
  "nbformat_minor": 0,
  "metadata": {
    "colab": {
      "name": "working on mnist dataset.ipynb",
      "version": "0.3.2",
      "provenance": [],
      "collapsed_sections": [],
      "include_colab_link": true
    },
    "language_info": {
      "codemirror_mode": {
        "name": "ipython",
        "version": 3
      },
      "file_extension": ".py",
      "mimetype": "text/x-python",
      "name": "python",
      "nbconvert_exporter": "python",
      "pygments_lexer": "ipython3",
      "version": "3.6.5"
    },
    "kernelspec": {
      "name": "python3",
      "display_name": "Python 3"
    },
    "accelerator": "GPU"
  },
  "cells": [
    {
      "cell_type": "markdown",
      "metadata": {
        "id": "view-in-github",
        "colab_type": "text"
      },
      "source": [
        "<a href=\"https://colab.research.google.com/github/rohit-kapoor/Machine-learning/blob/master/working_on_mnist_dataset.ipynb\" target=\"_parent\"><img src=\"https://colab.research.google.com/assets/colab-badge.svg\" alt=\"Open In Colab\"/></a>"
      ]
    },
    {
      "cell_type": "code",
      "metadata": {
        "id": "GFZXlw2eLLuS",
        "colab_type": "code",
        "colab": {
          "base_uri": "https://localhost:8080/",
          "height": 102
        },
        "outputId": "139b2a96-b8a3-4737-aa2b-c58e232a660f"
      },
      "source": [
        "from keras.datasets import mnist\n",
        "(x_train,y_train),(x_test,y_test)=mnist.load_data()\n",
        "print(len(x_train))\n",
        "print(len(x_test))"
      ],
      "execution_count": 2,
      "outputs": [
        {
          "output_type": "stream",
          "text": [
            "Using TensorFlow backend.\n"
          ],
          "name": "stderr"
        },
        {
          "output_type": "stream",
          "text": [
            "Downloading data from https://s3.amazonaws.com/img-datasets/mnist.npz\n",
            "11493376/11490434 [==============================] - 1s 0us/step\n",
            "60000\n",
            "10000\n"
          ],
          "name": "stdout"
        }
      ]
    },
    {
      "cell_type": "code",
      "metadata": {
        "id": "7_SQUDCHLLuo",
        "colab_type": "code",
        "colab": {
          "base_uri": "https://localhost:8080/",
          "height": 210
        },
        "outputId": "c20b0fca-fcff-40ed-f1e2-099fb12fa790"
      },
      "source": [
        "import matplotlib.pyplot as plt\n",
        "%matplotlib inline\n",
        "import matplotlib.cm as cm\n",
        "import numpy as np\n",
        "fig=plt.figure(figsize=(20,20))\n",
        "for i in range(6):\n",
        "    ax=fig.add_subplot(1,6,i+1,xticks=[],yticks=[])\n",
        "    ax.imshow(x_train[i],cmap='gray')\n",
        "    ax.set_title(str(y_train[i]))"
      ],
      "execution_count": 3,
      "outputs": [
        {
          "output_type": "display_data",
          "data": {
            "image/png": "[encoded data removed]",
            "text/plain": [
              "<Figure size 1440x1440 with 6 Axes>"
            ]
          },
          "metadata": {
            "tags": []
          }
        }
      ]
    },
    {
      "cell_type": "markdown",
      "metadata": {
        "id": "VoSTTK4tLLu7",
        "colab_type": "text"
      },
      "source": [
        "#### now we will try to print one of the image in more detail"
      ]
    },
    {
      "cell_type": "code",
      "metadata": {
        "id": "FgTBc8_YLLu_",
        "colab_type": "code",
        "colab": {
          "base_uri": "https://localhost:8080/",
          "height": 1027
        },
        "outputId": "7a086674-efcc-4fc4-84d2-f1ae0f81ee60"
      },
      "source": [
        "def vizualize_input(img,ax):\n",
        "    ax.imshow(img,cmap='gray')\n",
        "    width,height=img.shape\n",
        "    thresh=img.max()/2.5\n",
        "    for x in range(width):\n",
        "        for y in range(height):\n",
        "            ax.annotate(str(round(img[x][y],2)),xy=(y,x),\n",
        "            horizontalalignment='centre',\n",
        "            verticalalignment='centre',\n",
        "            color='white' if img[x][y]<thresh else 'black')\n",
        "    \n",
        "fig=plt.figure(figsize=(12,12))\n",
        "ax=fig.add_subplot(1,1,1)\n",
        "vizualize_input(x_train[0],ax)"
      ],
      "execution_count": 4,
      "outputs": [
        {
          "output_type": "error",
          "ename": "ValueError",
          "evalue": "ignored",
          "traceback": [
            "\u001b[0;31m---------------------------------------------------------------------------\u001b[0m",
            "\u001b[0;31mValueError\u001b[0m                                Traceback (most recent call last)",
            "\u001b[0;32m<ipython-input-4-53d2cf02a3f5>\u001b[0m in \u001b[0;36m<module>\u001b[0;34m()\u001b[0m\n\u001b[1;32m     12\u001b[0m \u001b[0mfig\u001b[0m\u001b[0;34m=\u001b[0m\u001b[0mplt\u001b[0m\u001b[0;34m.\u001b[0m\u001b[0mfigure\u001b[0m\u001b[0;34m(\u001b[0m\u001b[0mfigsize\u001b[0m\u001b[0;34m=\u001b[0m\u001b[0;34m(\u001b[0m\u001b[0;36m12\u001b[0m\u001b[0;34m,\u001b[0m\u001b[0;36m12\u001b[0m\u001b[0;34m)\u001b[0m\u001b[0;34m)\u001b[0m\u001b[0;34m\u001b[0m\u001b[0;34m\u001b[0m\u001b[0m\n\u001b[1;32m     13\u001b[0m \u001b[0max\u001b[0m\u001b[0;34m=\u001b[0m\u001b[0mfig\u001b[0m\u001b[0;34m.\u001b[0m\u001b[0madd_subplot\u001b[0m\u001b[0;34m(\u001b[0m\u001b[0;36m1\u001b[0m\u001b[0;34m,\u001b[0m\u001b[0;36m1\u001b[0m\u001b[0;34m,\u001b[0m\u001b[0;36m1\u001b[0m\u001b[0;34m)\u001b[0m\u001b[0;34m\u001b[0m\u001b[0;34m\u001b[0m\u001b[0m\n\u001b[0;32m---> 14\u001b[0;31m \u001b[0mvizualize_input\u001b[0m\u001b[0;34m(\u001b[0m\u001b[0mx_train\u001b[0m\u001b[0;34m[\u001b[0m\u001b[0;36m0\u001b[0m\u001b[0;34m]\u001b[0m\u001b[0;34m,\u001b[0m\u001b[0max\u001b[0m\u001b[0;34m)\u001b[0m\u001b[0;34m\u001b[0m\u001b[0;34m\u001b[0m\u001b[0m\n\u001b[0m",
            "\u001b[0;32m<ipython-input-4-53d2cf02a3f5>\u001b[0m in \u001b[0;36mvizualize_input\u001b[0;34m(img, ax)\u001b[0m\n\u001b[1;32m      8\u001b[0m             \u001b[0mhorizontalalignment\u001b[0m\u001b[0;34m=\u001b[0m\u001b[0;34m'centre'\u001b[0m\u001b[0;34m,\u001b[0m\u001b[0;34m\u001b[0m\u001b[0;34m\u001b[0m\u001b[0m\n\u001b[1;32m      9\u001b[0m             \u001b[0mverticalalignment\u001b[0m\u001b[0;34m=\u001b[0m\u001b[0;34m'centre'\u001b[0m\u001b[0;34m,\u001b[0m\u001b[0;34m\u001b[0m\u001b[0;34m\u001b[0m\u001b[0m\n\u001b[0;32m---> 10\u001b[0;31m             color='white' if img[x][y]<thresh else 'black')\n\u001b[0m\u001b[1;32m     11\u001b[0m \u001b[0;34m\u001b[0m\u001b[0m\n\u001b[1;32m     12\u001b[0m \u001b[0mfig\u001b[0m\u001b[0;34m=\u001b[0m\u001b[0mplt\u001b[0m\u001b[0;34m.\u001b[0m\u001b[0mfigure\u001b[0m\u001b[0;34m(\u001b[0m\u001b[0mfigsize\u001b[0m\u001b[0;34m=\u001b[0m\u001b[0;34m(\u001b[0m\u001b[0;36m12\u001b[0m\u001b[0;34m,\u001b[0m\u001b[0;36m12\u001b[0m\u001b[0;34m)\u001b[0m\u001b[0;34m)\u001b[0m\u001b[0;34m\u001b[0m\u001b[0;34m\u001b[0m\u001b[0m\n",
            "\u001b[0;32m/usr/local/lib/python3.6/dist-packages/matplotlib/axes/_axes.py\u001b[0m in \u001b[0;36mannotate\u001b[0;34m(self, s, xy, *args, **kwargs)\u001b[0m\n\u001b[1;32m    733\u001b[0m     \u001b[0;34m@\u001b[0m\u001b[0mdocstring\u001b[0m\u001b[0;34m.\u001b[0m\u001b[0mdedent_interpd\u001b[0m\u001b[0;34m\u001b[0m\u001b[0;34m\u001b[0m\u001b[0m\n\u001b[1;32m    734\u001b[0m     \u001b[0;32mdef\u001b[0m \u001b[0mannotate\u001b[0m\u001b[0;34m(\u001b[0m\u001b[0mself\u001b[0m\u001b[0;34m,\u001b[0m \u001b[0ms\u001b[0m\u001b[0;34m,\u001b[0m \u001b[0mxy\u001b[0m\u001b[0;34m,\u001b[0m \u001b[0;34m*\u001b[0m\u001b[0margs\u001b[0m\u001b[0;34m,\u001b[0m \u001b[0;34m**\u001b[0m\u001b[0mkwargs\u001b[0m\u001b[0;34m)\u001b[0m\u001b[0;34m:\u001b[0m\u001b[0;34m\u001b[0m\u001b[0;34m\u001b[0m\u001b[0m\n\u001b[0;32m--> 735\u001b[0;31m         \u001b[0ma\u001b[0m \u001b[0;34m=\u001b[0m \u001b[0mmtext\u001b[0m\u001b[0;34m.\u001b[0m\u001b[0mAnnotation\u001b[0m\u001b[0;34m(\u001b[0m\u001b[0ms\u001b[0m\u001b[0;34m,\u001b[0m \u001b[0mxy\u001b[0m\u001b[0;34m,\u001b[0m \u001b[0;34m*\u001b[0m\u001b[0margs\u001b[0m\u001b[0;34m,\u001b[0m \u001b[0;34m**\u001b[0m\u001b[0mkwargs\u001b[0m\u001b[0;34m)\u001b[0m\u001b[0;34m\u001b[0m\u001b[0;34m\u001b[0m\u001b[0m\n\u001b[0m\u001b[1;32m    736\u001b[0m         \u001b[0ma\u001b[0m\u001b[0;34m.\u001b[0m\u001b[0mset_transform\u001b[0m\u001b[0;34m(\u001b[0m\u001b[0mmtransforms\u001b[0m\u001b[0;34m.\u001b[0m\u001b[0mIdentityTransform\u001b[0m\u001b[0;34m(\u001b[0m\u001b[0;34m)\u001b[0m\u001b[0;34m)\u001b[0m\u001b[0;34m\u001b[0m\u001b[0;34m\u001b[0m\u001b[0m\n\u001b[1;32m    737\u001b[0m         \u001b[0;32mif\u001b[0m \u001b[0;34m'clip_on'\u001b[0m \u001b[0;32min\u001b[0m \u001b[0mkwargs\u001b[0m\u001b[0;34m:\u001b[0m\u001b[0;34m\u001b[0m\u001b[0;34m\u001b[0m\u001b[0m\n",
            "\u001b[0;32m/usr/local/lib/python3.6/dist-packages/matplotlib/text.py\u001b[0m in \u001b[0;36m__init__\u001b[0;34m(self, s, xy, xytext, xycoords, textcoords, arrowprops, annotation_clip, **kwargs)\u001b[0m\n\u001b[1;32m   2190\u001b[0m         \u001b[0mx\u001b[0m\u001b[0;34m,\u001b[0m \u001b[0my\u001b[0m \u001b[0;34m=\u001b[0m \u001b[0mxytext\u001b[0m\u001b[0;34m\u001b[0m\u001b[0;34m\u001b[0m\u001b[0m\n\u001b[1;32m   2191\u001b[0m \u001b[0;34m\u001b[0m\u001b[0m\n\u001b[0;32m-> 2192\u001b[0;31m         \u001b[0mText\u001b[0m\u001b[0;34m.\u001b[0m\u001b[0m__init__\u001b[0m\u001b[0;34m(\u001b[0m\u001b[0mself\u001b[0m\u001b[0;34m,\u001b[0m \u001b[0mx\u001b[0m\u001b[0;34m,\u001b[0m \u001b[0my\u001b[0m\u001b[0;34m,\u001b[0m \u001b[0ms\u001b[0m\u001b[0;34m,\u001b[0m \u001b[0;34m**\u001b[0m\u001b[0mkwargs\u001b[0m\u001b[0;34m)\u001b[0m\u001b[0;34m\u001b[0m\u001b[0;34m\u001b[0m\u001b[0m\n\u001b[0m\u001b[1;32m   2193\u001b[0m \u001b[0;34m\u001b[0m\u001b[0m\n\u001b[1;32m   2194\u001b[0m         \u001b[0mself\u001b[0m\u001b[0;34m.\u001b[0m\u001b[0marrowprops\u001b[0m \u001b[0;34m=\u001b[0m \u001b[0marrowprops\u001b[0m\u001b[0;34m\u001b[0m\u001b[0;34m\u001b[0m\u001b[0m\n",
            "\u001b[0;32m/usr/local/lib/python3.6/dist-packages/matplotlib/text.py\u001b[0m in \u001b[0;36m__init__\u001b[0;34m(self, x, y, text, color, verticalalignment, horizontalalignment, multialignment, fontproperties, rotation, linespacing, rotation_mode, usetex, wrap, **kwargs)\u001b[0m\n\u001b[1;32m    165\u001b[0m         \u001b[0mself\u001b[0m\u001b[0;34m.\u001b[0m\u001b[0mset_usetex\u001b[0m\u001b[0;34m(\u001b[0m\u001b[0musetex\u001b[0m\u001b[0;34m)\u001b[0m\u001b[0;34m\u001b[0m\u001b[0;34m\u001b[0m\u001b[0m\n\u001b[1;32m    166\u001b[0m         \u001b[0mself\u001b[0m\u001b[0;34m.\u001b[0m\u001b[0mset_wrap\u001b[0m\u001b[0;34m(\u001b[0m\u001b[0mwrap\u001b[0m\u001b[0;34m)\u001b[0m\u001b[0;34m\u001b[0m\u001b[0;34m\u001b[0m\u001b[0m\n\u001b[0;32m--> 167\u001b[0;31m         \u001b[0mself\u001b[0m\u001b[0;34m.\u001b[0m\u001b[0mset_verticalalignment\u001b[0m\u001b[0;34m(\u001b[0m\u001b[0mverticalalignment\u001b[0m\u001b[0;34m)\u001b[0m\u001b[0;34m\u001b[0m\u001b[0;34m\u001b[0m\u001b[0m\n\u001b[0m\u001b[1;32m    168\u001b[0m         \u001b[0mself\u001b[0m\u001b[0;34m.\u001b[0m\u001b[0mset_horizontalalignment\u001b[0m\u001b[0;34m(\u001b[0m\u001b[0mhorizontalalignment\u001b[0m\u001b[0;34m)\u001b[0m\u001b[0;34m\u001b[0m\u001b[0;34m\u001b[0m\u001b[0m\n\u001b[1;32m    169\u001b[0m         \u001b[0mself\u001b[0m\u001b[0;34m.\u001b[0m\u001b[0m_multialignment\u001b[0m \u001b[0;34m=\u001b[0m \u001b[0mmultialignment\u001b[0m\u001b[0;34m\u001b[0m\u001b[0;34m\u001b[0m\u001b[0m\n",
            "\u001b[0;32m/usr/local/lib/python3.6/dist-packages/matplotlib/text.py\u001b[0m in \u001b[0;36mset_verticalalignment\u001b[0;34m(self, align)\u001b[0m\n\u001b[1;32m   1172\u001b[0m         \u001b[0;32mif\u001b[0m \u001b[0malign\u001b[0m \u001b[0;32mnot\u001b[0m \u001b[0;32min\u001b[0m \u001b[0mlegal\u001b[0m\u001b[0;34m:\u001b[0m\u001b[0;34m\u001b[0m\u001b[0;34m\u001b[0m\u001b[0m\n\u001b[1;32m   1173\u001b[0m             raise ValueError('Vertical alignment must be one of %s' %\n\u001b[0;32m-> 1174\u001b[0;31m                              str(legal))\n\u001b[0m\u001b[1;32m   1175\u001b[0m \u001b[0;34m\u001b[0m\u001b[0m\n\u001b[1;32m   1176\u001b[0m         \u001b[0mself\u001b[0m\u001b[0;34m.\u001b[0m\u001b[0m_verticalalignment\u001b[0m \u001b[0;34m=\u001b[0m \u001b[0malign\u001b[0m\u001b[0;34m\u001b[0m\u001b[0;34m\u001b[0m\u001b[0m\n",
            "\u001b[0;31mValueError\u001b[0m: Vertical alignment must be one of ('top', 'bottom', 'center', 'baseline', 'center_baseline')"
          ]
        },
        {
          "output_type": "display_data",
          "data": {
            "image/png": "[encoded data removed]",
            "text/plain": [
              "<Figure size 864x864 with 1 Axes>"
            ]
          },
          "metadata": {
            "tags": []
          }
        }
      ]
    },
    {
      "cell_type": "markdown",
      "metadata": {
        "id": "5NsuPSHnLLvL",
        "colab_type": "text"
      },
      "source": [
        "#### now we will rescle the image by dividing every pixel in every image by 255"
      ]
    },
    {
      "cell_type": "code",
      "metadata": {
        "id": "YPMcJRdDLLvO",
        "colab_type": "code",
        "colab": {}
      },
      "source": [
        "x_train=x_train.astype('float32')/255\n",
        "x_test=x_test.astype('float32')/255"
      ],
      "execution_count": 0,
      "outputs": []
    },
    {
      "cell_type": "markdown",
      "metadata": {
        "id": "3KO-xGp0LLvV",
        "colab_type": "text"
      },
      "source": [
        "#### encode categorical integer labels using a one-hot-scheme"
      ]
    },
    {
      "cell_type": "code",
      "metadata": {
        "id": "6sWfTFOKLLvY",
        "colab_type": "code",
        "colab": {
          "base_uri": "https://localhost:8080/",
          "height": 238
        },
        "outputId": "fe6ac91a-4147-47d9-a5ee-a759d9e24b6f"
      },
      "source": [
        "from keras.utils import np_utils\n",
        "# print first ten (integer-valued ) training labels\n",
        "print('Integer-valued labels:')\n",
        "print(y_train[:10])\n",
        "# one hot encode the labels\n",
        "y_train=np_utils.to_categorical(y_train,10)\n",
        "y_test=np_utils.to_categorical(y_test,10)\n",
        "print('one-hot-labels:')\n",
        "print(y_train[:10])"
      ],
      "execution_count": 6,
      "outputs": [
        {
          "output_type": "stream",
          "text": [
            "Integer-valued labels:\n",
            "[5 0 4 1 9 2 1 3 1 4]\n",
            "one-hot-labels:\n",
            "[[0. 0. 0. 0. 0. 1. 0. 0. 0. 0.]\n",
            " [1. 0. 0. 0. 0. 0. 0. 0. 0. 0.]\n",
            " [0. 0. 0. 0. 1. 0. 0. 0. 0. 0.]\n",
            " [0. 1. 0. 0. 0. 0. 0. 0. 0. 0.]\n",
            " [0. 0. 0. 0. 0. 0. 0. 0. 0. 1.]\n",
            " [0. 0. 1. 0. 0. 0. 0. 0. 0. 0.]\n",
            " [0. 1. 0. 0. 0. 0. 0. 0. 0. 0.]\n",
            " [0. 0. 0. 1. 0. 0. 0. 0. 0. 0.]\n",
            " [0. 1. 0. 0. 0. 0. 0. 0. 0. 0.]\n",
            " [0. 0. 0. 0. 1. 0. 0. 0. 0. 0.]]\n"
          ],
          "name": "stdout"
        }
      ]
    },
    {
      "cell_type": "markdown",
      "metadata": {
        "id": "XejuNWU_LLvh",
        "colab_type": "text"
      },
      "source": [
        "#### define the model architecture"
      ]
    },
    {
      "cell_type": "code",
      "metadata": {
        "id": "xpzef04wLLvk",
        "colab_type": "code",
        "colab": {
          "base_uri": "https://localhost:8080/",
          "height": 564
        },
        "outputId": "83933cb5-d638-433e-e592-ce59e89a9c1a"
      },
      "source": [
        "from keras.models import Sequential\n",
        "from keras.layers import Dense,Dropout,Flatten\n",
        "\n",
        "# define the model\n",
        "model =Sequential()\n",
        "model.add(Flatten(input_shape=x_train.shape[1:]))\n",
        "model.add(Dense(512,activation='relu'))\n",
        "model.add(Dropout(0.2))\n",
        "model.add(Dense(512,activation='relu'))\n",
        "model.add(Dropout(0.2))\n",
        "model.add(Dense(10,activation='softmax'))\n",
        "model.summary()"
      ],
      "execution_count": 7,
      "outputs": [
        {
          "output_type": "stream",
          "text": [
            "WARNING: Logging before flag parsing goes to stderr.\n",
            "W0615 12:49:33.483589 140413135624064 deprecation_wrapper.py:119] From /usr/local/lib/python3.6/dist-packages/keras/backend/tensorflow_backend.py:74: The name tf.get_default_graph is deprecated. Please use tf.compat.v1.get_default_graph instead.\n",
            "\n",
            "W0615 12:49:33.518662 140413135624064 deprecation_wrapper.py:119] From /usr/local/lib/python3.6/dist-packages/keras/backend/tensorflow_backend.py:517: The name tf.placeholder is deprecated. Please use tf.compat.v1.placeholder instead.\n",
            "\n",
            "W0615 12:49:33.538716 140413135624064 deprecation_wrapper.py:119] From /usr/local/lib/python3.6/dist-packages/keras/backend/tensorflow_backend.py:4138: The name tf.random_uniform is deprecated. Please use tf.random.uniform instead.\n",
            "\n",
            "W0615 12:49:33.555497 140413135624064 deprecation_wrapper.py:119] From /usr/local/lib/python3.6/dist-packages/keras/backend/tensorflow_backend.py:133: The name tf.placeholder_with_default is deprecated. Please use tf.compat.v1.placeholder_with_default instead.\n",
            "\n",
            "W0615 12:49:33.566007 140413135624064 deprecation.py:506] From /usr/local/lib/python3.6/dist-packages/keras/backend/tensorflow_backend.py:3445: calling dropout (from tensorflow.python.ops.nn_ops) with keep_prob is deprecated and will be removed in a future version.\n",
            "Instructions for updating:\n",
            "Please use `rate` instead of `keep_prob`. Rate should be set to `rate = 1 - keep_prob`.\n"
          ],
          "name": "stderr"
        },
        {
          "output_type": "stream",
          "text": [
            "_________________________________________________________________\n",
            "Layer (type)                 Output Shape              Param #   \n",
            "=================================================================\n",
            "flatten_1 (Flatten)          (None, 784)               0         \n",
            "_________________________________________________________________\n",
            "dense_1 (Dense)              (None, 512)               401920    \n",
            "_________________________________________________________________\n",
            "dropout_1 (Dropout)          (None, 512)               0         \n",
            "_________________________________________________________________\n",
            "dense_2 (Dense)              (None, 512)               262656    \n",
            "_________________________________________________________________\n",
            "dropout_2 (Dropout)          (None, 512)               0         \n",
            "_________________________________________________________________\n",
            "dense_3 (Dense)              (None, 10)                5130      \n",
            "=================================================================\n",
            "Total params: 669,706\n",
            "Trainable params: 669,706\n",
            "Non-trainable params: 0\n",
            "_________________________________________________________________\n"
          ],
          "name": "stdout"
        }
      ]
    },
    {
      "cell_type": "code",
      "metadata": {
        "id": "zUgsCSeKLLvx",
        "colab_type": "code",
        "colab": {
          "base_uri": "https://localhost:8080/",
          "height": 105
        },
        "outputId": "8cc4dedc-d589-4f8a-ab1d-83d7dbad5e30"
      },
      "source": [
        "model.compile(loss='categorical_crossentropy',optimizer='rmsprop',metrics=['accuracy'])\n"
      ],
      "execution_count": 8,
      "outputs": [
        {
          "output_type": "stream",
          "text": [
            "W0615 12:49:41.268854 140413135624064 deprecation_wrapper.py:119] From /usr/local/lib/python3.6/dist-packages/keras/optimizers.py:790: The name tf.train.Optimizer is deprecated. Please use tf.compat.v1.train.Optimizer instead.\n",
            "\n",
            "W0615 12:49:41.299893 140413135624064 deprecation_wrapper.py:119] From /usr/local/lib/python3.6/dist-packages/keras/backend/tensorflow_backend.py:3295: The name tf.log is deprecated. Please use tf.math.log instead.\n",
            "\n"
          ],
          "name": "stderr"
        }
      ]
    },
    {
      "cell_type": "markdown",
      "metadata": {
        "id": "vtBsSBAVLLv7",
        "colab_type": "text"
      },
      "source": [
        "### calculate the accuracy on set before training"
      ]
    },
    {
      "cell_type": "code",
      "metadata": {
        "id": "zTiuuc-7LLwB",
        "colab_type": "code",
        "colab": {
          "base_uri": "https://localhost:8080/",
          "height": 34
        },
        "outputId": "e8543dfb-345b-4370-ab75-25b196a794c9"
      },
      "source": [
        "score=model.evaluate(x_test,y_test,verbose=0)\n",
        "accuracy=100*score[1]\n",
        "print(\"the accuracy is\",accuracy)"
      ],
      "execution_count": 9,
      "outputs": [
        {
          "output_type": "stream",
          "text": [
            "the accuracy is 11.06\n"
          ],
          "name": "stdout"
        }
      ]
    },
    {
      "cell_type": "markdown",
      "metadata": {
        "id": "ewlQPEEhLLwR",
        "colab_type": "text"
      },
      "source": [
        "## now we will train the model"
      ]
    },
    {
      "cell_type": "code",
      "metadata": {
        "id": "f9uN3GDTLLwW",
        "colab_type": "code",
        "colab": {
          "base_uri": "https://localhost:8080/",
          "height": 6834
        },
        "outputId": "339dbb4b-41cf-49b3-e34f-16b5fa470e90"
      },
      "source": [
        "from keras.callbacks import ModelCheckpoint\n",
        "\n",
        "checkpointer=ModelCheckpoint(filepath='mnist.model.best.hdf5',\n",
        "                             verbose=1,save_best_only=True)\n",
        "hist=model.fit(x_train,y_train,batch_size=128,epochs=100,\n",
        "              validation_split=0.2,callbacks=[checkpointer],\n",
        "              verbose=1,shuffle=True)\n"
      ],
      "execution_count": 12,
      "outputs": [
        {
          "output_type": "stream",
          "text": [
            "Train on 48000 samples, validate on 12000 samples\n",
            "Epoch 1/100\n",
            "48000/48000 [==============================] - 2s 34us/step - loss: 0.0264 - acc: 0.9925 - val_loss: 0.1046 - val_acc: 0.9811\n",
            "\n",
            "Epoch 00001: val_loss improved from inf to 0.10465, saving model to mnist.model.best.hdf5\n",
            "Epoch 2/100\n",
            "48000/48000 [==============================] - 2s 34us/step - loss: 0.0226 - acc: 0.9932 - val_loss: 0.1116 - val_acc: 0.9816\n",
            "\n",
            "Epoch 00002: val_loss did not improve from 0.10465\n",
            "Epoch 3/100\n",
            "48000/48000 [==============================] - 2s 33us/step - loss: 0.0223 - acc: 0.9931 - val_loss: 0.1207 - val_acc: 0.9787\n",
            "\n",
            "Epoch 00003: val_loss did not improve from 0.10465\n",
            "Epoch 4/100\n",
            "48000/48000 [==============================] - 2s 34us/step - loss: 0.0209 - acc: 0.9941 - val_loss: 0.1183 - val_acc: 0.9814\n",
            "\n",
            "Epoch 00004: val_loss did not improve from 0.10465\n",
            "Epoch 5/100\n",
            "48000/48000 [==============================] - 2s 34us/step - loss: 0.0191 - acc: 0.9948 - val_loss: 0.1213 - val_acc: 0.9803\n",
            "\n",
            "Epoch 00005: val_loss did not improve from 0.10465\n",
            "Epoch 6/100\n",
            "48000/48000 [==============================] - 2s 33us/step - loss: 0.0188 - acc: 0.9947 - val_loss: 0.1083 - val_acc: 0.9832\n",
            "\n",
            "Epoch 00006: val_loss did not improve from 0.10465\n",
            "Epoch 7/100\n",
            "48000/48000 [==============================] - 2s 34us/step - loss: 0.0192 - acc: 0.9949 - val_loss: 0.1267 - val_acc: 0.9820\n",
            "\n",
            "Epoch 00007: val_loss did not improve from 0.10465\n",
            "Epoch 8/100\n",
            "48000/48000 [==============================] - 2s 33us/step - loss: 0.0166 - acc: 0.9955 - val_loss: 0.1369 - val_acc: 0.9803\n",
            "\n",
            "Epoch 00008: val_loss did not improve from 0.10465\n",
            "Epoch 9/100\n",
            "48000/48000 [==============================] - 2s 34us/step - loss: 0.0166 - acc: 0.9955 - val_loss: 0.1305 - val_acc: 0.9802\n",
            "\n",
            "Epoch 00009: val_loss did not improve from 0.10465\n",
            "Epoch 10/100\n",
            "48000/48000 [==============================] - 2s 34us/step - loss: 0.0174 - acc: 0.9955 - val_loss: 0.1347 - val_acc: 0.9803\n",
            "\n",
            "Epoch 00010: val_loss did not improve from 0.10465\n",
            "Epoch 11/100\n",
            "48000/48000 [==============================] - 2s 33us/step - loss: 0.0143 - acc: 0.9962 - val_loss: 0.1430 - val_acc: 0.9811\n",
            "\n",
            "Epoch 00011: val_loss did not improve from 0.10465\n",
            "Epoch 12/100\n",
            "48000/48000 [==============================] - 2s 34us/step - loss: 0.0159 - acc: 0.9961 - val_loss: 0.1681 - val_acc: 0.9774\n",
            "\n",
            "Epoch 00012: val_loss did not improve from 0.10465\n",
            "Epoch 13/100\n",
            "48000/48000 [==============================] - 2s 33us/step - loss: 0.0153 - acc: 0.9958 - val_loss: 0.1392 - val_acc: 0.9807\n",
            "\n",
            "Epoch 00013: val_loss did not improve from 0.10465\n",
            "Epoch 14/100\n",
            "48000/48000 [==============================] - 2s 34us/step - loss: 0.0150 - acc: 0.9964 - val_loss: 0.1423 - val_acc: 0.9803\n",
            "\n",
            "Epoch 00014: val_loss did not improve from 0.10465\n",
            "Epoch 15/100\n",
            "48000/48000 [==============================] - 2s 34us/step - loss: 0.0127 - acc: 0.9966 - val_loss: 0.1403 - val_acc: 0.9819\n",
            "\n",
            "Epoch 00015: val_loss did not improve from 0.10465\n",
            "Epoch 16/100\n",
            "48000/48000 [==============================] - 2s 34us/step - loss: 0.0135 - acc: 0.9968 - val_loss: 0.1367 - val_acc: 0.9814\n",
            "\n",
            "Epoch 00016: val_loss did not improve from 0.10465\n",
            "Epoch 17/100\n",
            "48000/48000 [==============================] - 2s 34us/step - loss: 0.0150 - acc: 0.9962 - val_loss: 0.1389 - val_acc: 0.9818\n",
            "\n",
            "Epoch 00017: val_loss did not improve from 0.10465\n",
            "Epoch 18/100\n",
            "48000/48000 [==============================] - 2s 35us/step - loss: 0.0126 - acc: 0.9964 - val_loss: 0.1462 - val_acc: 0.9818\n",
            "\n",
            "Epoch 00018: val_loss did not improve from 0.10465\n",
            "Epoch 19/100\n",
            "48000/48000 [==============================] - 2s 34us/step - loss: 0.0109 - acc: 0.9972 - val_loss: 0.1439 - val_acc: 0.9812\n",
            "\n",
            "Epoch 00019: val_loss did not improve from 0.10465\n",
            "Epoch 20/100\n",
            "48000/48000 [==============================] - 2s 33us/step - loss: 0.0131 - acc: 0.9970 - val_loss: 0.1467 - val_acc: 0.9822\n",
            "\n",
            "Epoch 00020: val_loss did not improve from 0.10465\n",
            "Epoch 21/100\n",
            "48000/48000 [==============================] - 2s 34us/step - loss: 0.0124 - acc: 0.9972 - val_loss: 0.1563 - val_acc: 0.9806\n",
            "\n",
            "Epoch 00021: val_loss did not improve from 0.10465\n",
            "Epoch 22/100\n",
            "48000/48000 [==============================] - 2s 33us/step - loss: 0.0119 - acc: 0.9971 - val_loss: 0.1575 - val_acc: 0.9821\n",
            "\n",
            "Epoch 00022: val_loss did not improve from 0.10465\n",
            "Epoch 23/100\n",
            "48000/48000 [==============================] - 2s 33us/step - loss: 0.0110 - acc: 0.9972 - val_loss: 0.1516 - val_acc: 0.9809\n",
            "\n",
            "Epoch 00023: val_loss did not improve from 0.10465\n",
            "Epoch 24/100\n",
            "48000/48000 [==============================] - 2s 33us/step - loss: 0.0098 - acc: 0.9976 - val_loss: 0.1463 - val_acc: 0.9817\n",
            "\n",
            "Epoch 00024: val_loss did not improve from 0.10465\n",
            "Epoch 25/100\n",
            "48000/48000 [==============================] - 2s 33us/step - loss: 0.0127 - acc: 0.9972 - val_loss: 0.1496 - val_acc: 0.9816\n",
            "\n",
            "Epoch 00025: val_loss did not improve from 0.10465\n",
            "Epoch 26/100\n",
            "48000/48000 [==============================] - 2s 36us/step - loss: 0.0124 - acc: 0.9971 - val_loss: 0.1518 - val_acc: 0.9816\n",
            "\n",
            "Epoch 00026: val_loss did not improve from 0.10465\n",
            "Epoch 27/100\n",
            "48000/48000 [==============================] - 2s 33us/step - loss: 0.0126 - acc: 0.9974 - val_loss: 0.1435 - val_acc: 0.9830\n",
            "\n",
            "Epoch 00027: val_loss did not improve from 0.10465\n",
            "Epoch 28/100\n",
            "48000/48000 [==============================] - 2s 33us/step - loss: 0.0089 - acc: 0.9976 - val_loss: 0.1465 - val_acc: 0.9814\n",
            "\n",
            "Epoch 00028: val_loss did not improve from 0.10465\n",
            "Epoch 29/100\n",
            "48000/48000 [==============================] - 2s 33us/step - loss: 0.0116 - acc: 0.9976 - val_loss: 0.1606 - val_acc: 0.9817\n",
            "\n",
            "Epoch 00029: val_loss did not improve from 0.10465\n",
            "Epoch 30/100\n",
            "48000/48000 [==============================] - 2s 33us/step - loss: 0.0110 - acc: 0.9974 - val_loss: 0.1658 - val_acc: 0.9807\n",
            "\n",
            "Epoch 00030: val_loss did not improve from 0.10465\n",
            "Epoch 31/100\n",
            "48000/48000 [==============================] - 2s 33us/step - loss: 0.0108 - acc: 0.9975 - val_loss: 0.1500 - val_acc: 0.9826\n",
            "\n",
            "Epoch 00031: val_loss did not improve from 0.10465\n",
            "Epoch 32/100\n",
            "48000/48000 [==============================] - 2s 34us/step - loss: 0.0107 - acc: 0.9974 - val_loss: 0.1560 - val_acc: 0.9819\n",
            "\n",
            "Epoch 00032: val_loss did not improve from 0.10465\n",
            "Epoch 33/100\n",
            "48000/48000 [==============================] - 2s 33us/step - loss: 0.0086 - acc: 0.9982 - val_loss: 0.1621 - val_acc: 0.9819\n",
            "\n",
            "Epoch 00033: val_loss did not improve from 0.10465\n",
            "Epoch 34/100\n",
            "48000/48000 [==============================] - 2s 33us/step - loss: 0.0111 - acc: 0.9976 - val_loss: 0.1630 - val_acc: 0.9807\n",
            "\n",
            "Epoch 00034: val_loss did not improve from 0.10465\n",
            "Epoch 35/100\n",
            "48000/48000 [==============================] - 2s 33us/step - loss: 0.0087 - acc: 0.9980 - val_loss: 0.1553 - val_acc: 0.9817\n",
            "\n",
            "Epoch 00035: val_loss did not improve from 0.10465\n",
            "Epoch 36/100\n",
            "48000/48000 [==============================] - 2s 33us/step - loss: 0.0092 - acc: 0.9980 - val_loss: 0.1666 - val_acc: 0.9812\n",
            "\n",
            "Epoch 00036: val_loss did not improve from 0.10465\n",
            "Epoch 37/100\n",
            "48000/48000 [==============================] - 2s 33us/step - loss: 0.0096 - acc: 0.9979 - val_loss: 0.1663 - val_acc: 0.9821\n",
            "\n",
            "Epoch 00037: val_loss did not improve from 0.10465\n",
            "Epoch 38/100\n",
            "48000/48000 [==============================] - 2s 34us/step - loss: 0.0108 - acc: 0.9979 - val_loss: 0.1716 - val_acc: 0.9805\n",
            "\n",
            "Epoch 00038: val_loss did not improve from 0.10465\n",
            "Epoch 39/100\n",
            "48000/48000 [==============================] - 2s 33us/step - loss: 0.0107 - acc: 0.9976 - val_loss: 0.1665 - val_acc: 0.9812\n",
            "\n",
            "Epoch 00039: val_loss did not improve from 0.10465\n",
            "Epoch 40/100\n",
            "48000/48000 [==============================] - 2s 33us/step - loss: 0.0122 - acc: 0.9977 - val_loss: 0.1672 - val_acc: 0.9811\n",
            "\n",
            "Epoch 00040: val_loss did not improve from 0.10465\n",
            "Epoch 41/100\n",
            "48000/48000 [==============================] - 2s 33us/step - loss: 0.0094 - acc: 0.9980 - val_loss: 0.1555 - val_acc: 0.9826\n",
            "\n",
            "Epoch 00041: val_loss did not improve from 0.10465\n",
            "Epoch 42/100\n",
            "48000/48000 [==============================] - 2s 33us/step - loss: 0.0101 - acc: 0.9980 - val_loss: 0.1624 - val_acc: 0.9826\n",
            "\n",
            "Epoch 00042: val_loss did not improve from 0.10465\n",
            "Epoch 43/100\n",
            "48000/48000 [==============================] - 2s 33us/step - loss: 0.0090 - acc: 0.9979 - val_loss: 0.1641 - val_acc: 0.9816\n",
            "\n",
            "Epoch 00043: val_loss did not improve from 0.10465\n",
            "Epoch 44/100\n",
            "48000/48000 [==============================] - 2s 33us/step - loss: 0.0111 - acc: 0.9980 - val_loss: 0.1769 - val_acc: 0.9815\n",
            "\n",
            "Epoch 00044: val_loss did not improve from 0.10465\n",
            "Epoch 45/100\n",
            "48000/48000 [==============================] - 2s 33us/step - loss: 0.0088 - acc: 0.9977 - val_loss: 0.1627 - val_acc: 0.9825\n",
            "\n",
            "Epoch 00045: val_loss did not improve from 0.10465\n",
            "Epoch 46/100\n",
            "48000/48000 [==============================] - 2s 33us/step - loss: 0.0101 - acc: 0.9980 - val_loss: 0.1635 - val_acc: 0.9823\n",
            "\n",
            "Epoch 00046: val_loss did not improve from 0.10465\n",
            "Epoch 47/100\n",
            "48000/48000 [==============================] - 2s 32us/step - loss: 0.0100 - acc: 0.9980 - val_loss: 0.1679 - val_acc: 0.9826\n",
            "\n",
            "Epoch 00047: val_loss did not improve from 0.10465\n",
            "Epoch 48/100\n",
            "48000/48000 [==============================] - 2s 33us/step - loss: 0.0077 - acc: 0.9981 - val_loss: 0.1817 - val_acc: 0.9812\n",
            "\n",
            "Epoch 00048: val_loss did not improve from 0.10465\n",
            "Epoch 49/100\n",
            "48000/48000 [==============================] - 2s 33us/step - loss: 0.0118 - acc: 0.9977 - val_loss: 0.1487 - val_acc: 0.9831\n",
            "\n",
            "Epoch 00049: val_loss did not improve from 0.10465\n",
            "Epoch 50/100\n",
            "48000/48000 [==============================] - 2s 33us/step - loss: 0.0084 - acc: 0.9983 - val_loss: 0.1682 - val_acc: 0.9817\n",
            "\n",
            "Epoch 00050: val_loss did not improve from 0.10465\n",
            "Epoch 51/100\n",
            "48000/48000 [==============================] - 2s 34us/step - loss: 0.0108 - acc: 0.9981 - val_loss: 0.1809 - val_acc: 0.9818\n",
            "\n",
            "Epoch 00051: val_loss did not improve from 0.10465\n",
            "Epoch 52/100\n",
            "48000/48000 [==============================] - 2s 33us/step - loss: 0.0079 - acc: 0.9982 - val_loss: 0.1594 - val_acc: 0.9832\n",
            "\n",
            "Epoch 00052: val_loss did not improve from 0.10465\n",
            "Epoch 53/100\n",
            "48000/48000 [==============================] - 2s 33us/step - loss: 0.0092 - acc: 0.9982 - val_loss: 0.1631 - val_acc: 0.9832\n",
            "\n",
            "Epoch 00053: val_loss did not improve from 0.10465\n",
            "Epoch 54/100\n",
            "48000/48000 [==============================] - 2s 33us/step - loss: 0.0071 - acc: 0.9987 - val_loss: 0.1832 - val_acc: 0.9815\n",
            "\n",
            "Epoch 00054: val_loss did not improve from 0.10465\n",
            "Epoch 55/100\n",
            "48000/48000 [==============================] - 2s 33us/step - loss: 0.0087 - acc: 0.9985 - val_loss: 0.1667 - val_acc: 0.9824\n",
            "\n",
            "Epoch 00055: val_loss did not improve from 0.10465\n",
            "Epoch 56/100\n",
            "48000/48000 [==============================] - 2s 33us/step - loss: 0.0115 - acc: 0.9980 - val_loss: 0.1616 - val_acc: 0.9821\n",
            "\n",
            "Epoch 00056: val_loss did not improve from 0.10465\n",
            "Epoch 57/100\n",
            "48000/48000 [==============================] - 2s 33us/step - loss: 0.0110 - acc: 0.9982 - val_loss: 0.1612 - val_acc: 0.9838\n",
            "\n",
            "Epoch 00057: val_loss did not improve from 0.10465\n",
            "Epoch 58/100\n",
            "48000/48000 [==============================] - 2s 34us/step - loss: 0.0104 - acc: 0.9982 - val_loss: 0.1680 - val_acc: 0.9824\n",
            "\n",
            "Epoch 00058: val_loss did not improve from 0.10465\n",
            "Epoch 59/100\n",
            "48000/48000 [==============================] - 2s 33us/step - loss: 0.0103 - acc: 0.9981 - val_loss: 0.1681 - val_acc: 0.9822\n",
            "\n",
            "Epoch 00059: val_loss did not improve from 0.10465\n",
            "Epoch 60/100\n",
            "48000/48000 [==============================] - 2s 34us/step - loss: 0.0105 - acc: 0.9980 - val_loss: 0.1626 - val_acc: 0.9833\n",
            "\n",
            "Epoch 00060: val_loss did not improve from 0.10465\n",
            "Epoch 61/100\n",
            "48000/48000 [==============================] - 2s 33us/step - loss: 0.0085 - acc: 0.9983 - val_loss: 0.1652 - val_acc: 0.9833\n",
            "\n",
            "Epoch 00061: val_loss did not improve from 0.10465\n",
            "Epoch 62/100\n",
            "48000/48000 [==============================] - 2s 33us/step - loss: 0.0098 - acc: 0.9981 - val_loss: 0.1711 - val_acc: 0.9822\n",
            "\n",
            "Epoch 00062: val_loss did not improve from 0.10465\n",
            "Epoch 63/100\n",
            "48000/48000 [==============================] - 2s 33us/step - loss: 0.0081 - acc: 0.9984 - val_loss: 0.1750 - val_acc: 0.9815\n",
            "\n",
            "Epoch 00063: val_loss did not improve from 0.10465\n",
            "Epoch 64/100\n",
            "48000/48000 [==============================] - 2s 34us/step - loss: 0.0090 - acc: 0.9984 - val_loss: 0.1746 - val_acc: 0.9819\n",
            "\n",
            "Epoch 00064: val_loss did not improve from 0.10465\n",
            "Epoch 65/100\n",
            "48000/48000 [==============================] - 2s 34us/step - loss: 0.0079 - acc: 0.9986 - val_loss: 0.1579 - val_acc: 0.9837\n",
            "\n",
            "Epoch 00065: val_loss did not improve from 0.10465\n",
            "Epoch 66/100\n",
            "48000/48000 [==============================] - 2s 33us/step - loss: 0.0081 - acc: 0.9985 - val_loss: 0.1674 - val_acc: 0.9832\n",
            "\n",
            "Epoch 00066: val_loss did not improve from 0.10465\n",
            "Epoch 67/100\n",
            "48000/48000 [==============================] - 2s 34us/step - loss: 0.0113 - acc: 0.9981 - val_loss: 0.1736 - val_acc: 0.9825\n",
            "\n",
            "Epoch 00067: val_loss did not improve from 0.10465\n",
            "Epoch 68/100\n",
            "48000/48000 [==============================] - 2s 33us/step - loss: 0.0079 - acc: 0.9983 - val_loss: 0.1772 - val_acc: 0.9823\n",
            "\n",
            "Epoch 00068: val_loss did not improve from 0.10465\n",
            "Epoch 69/100\n",
            "48000/48000 [==============================] - 2s 34us/step - loss: 0.0058 - acc: 0.9988 - val_loss: 0.1690 - val_acc: 0.9827\n",
            "\n",
            "Epoch 00069: val_loss did not improve from 0.10465\n",
            "Epoch 70/100\n",
            "48000/48000 [==============================] - 2s 33us/step - loss: 0.0062 - acc: 0.9989 - val_loss: 0.1531 - val_acc: 0.9841\n",
            "\n",
            "Epoch 00070: val_loss did not improve from 0.10465\n",
            "Epoch 71/100\n",
            "48000/48000 [==============================] - 2s 33us/step - loss: 0.0095 - acc: 0.9985 - val_loss: 0.1656 - val_acc: 0.9837\n",
            "\n",
            "Epoch 00071: val_loss did not improve from 0.10465\n",
            "Epoch 72/100\n",
            "48000/48000 [==============================] - 2s 33us/step - loss: 0.0083 - acc: 0.9984 - val_loss: 0.1677 - val_acc: 0.9838\n",
            "\n",
            "Epoch 00072: val_loss did not improve from 0.10465\n",
            "Epoch 73/100\n",
            "48000/48000 [==============================] - 2s 33us/step - loss: 0.0085 - acc: 0.9986 - val_loss: 0.1605 - val_acc: 0.9829\n",
            "\n",
            "Epoch 00073: val_loss did not improve from 0.10465\n",
            "Epoch 74/100\n",
            "48000/48000 [==============================] - 2s 33us/step - loss: 0.0081 - acc: 0.9986 - val_loss: 0.1708 - val_acc: 0.9831\n",
            "\n",
            "Epoch 00074: val_loss did not improve from 0.10465\n",
            "Epoch 75/100\n",
            "48000/48000 [==============================] - 2s 33us/step - loss: 0.0057 - acc: 0.9990 - val_loss: 0.1695 - val_acc: 0.9830\n",
            "\n",
            "Epoch 00075: val_loss did not improve from 0.10465\n",
            "Epoch 76/100\n",
            "48000/48000 [==============================] - 2s 33us/step - loss: 0.0063 - acc: 0.9989 - val_loss: 0.1780 - val_acc: 0.9820\n",
            "\n",
            "Epoch 00076: val_loss did not improve from 0.10465\n",
            "Epoch 77/100\n",
            "48000/48000 [==============================] - 2s 34us/step - loss: 0.0058 - acc: 0.9989 - val_loss: 0.1756 - val_acc: 0.9825\n",
            "\n",
            "Epoch 00077: val_loss did not improve from 0.10465\n",
            "Epoch 78/100\n",
            "48000/48000 [==============================] - 2s 35us/step - loss: 0.0061 - acc: 0.9990 - val_loss: 0.1645 - val_acc: 0.9831\n",
            "\n",
            "Epoch 00078: val_loss did not improve from 0.10465\n",
            "Epoch 79/100\n",
            "48000/48000 [==============================] - 2s 35us/step - loss: 0.0066 - acc: 0.9989 - val_loss: 0.1712 - val_acc: 0.9821\n",
            "\n",
            "Epoch 00079: val_loss did not improve from 0.10465\n",
            "Epoch 80/100\n",
            "48000/48000 [==============================] - 2s 34us/step - loss: 0.0092 - acc: 0.9985 - val_loss: 0.1678 - val_acc: 0.9836\n",
            "\n",
            "Epoch 00080: val_loss did not improve from 0.10465\n",
            "Epoch 81/100\n",
            "48000/48000 [==============================] - 2s 35us/step - loss: 0.0105 - acc: 0.9984 - val_loss: 0.1769 - val_acc: 0.9826\n",
            "\n",
            "Epoch 00081: val_loss did not improve from 0.10465\n",
            "Epoch 82/100\n",
            "48000/48000 [==============================] - 2s 34us/step - loss: 0.0068 - acc: 0.9987 - val_loss: 0.1719 - val_acc: 0.9830\n",
            "\n",
            "Epoch 00082: val_loss did not improve from 0.10465\n",
            "Epoch 83/100\n",
            "48000/48000 [==============================] - 2s 34us/step - loss: 0.0080 - acc: 0.9986 - val_loss: 0.1694 - val_acc: 0.9832\n",
            "\n",
            "Epoch 00083: val_loss did not improve from 0.10465\n",
            "Epoch 84/100\n",
            "48000/48000 [==============================] - 2s 33us/step - loss: 0.0096 - acc: 0.9985 - val_loss: 0.1796 - val_acc: 0.9823\n",
            "\n",
            "Epoch 00084: val_loss did not improve from 0.10465\n",
            "Epoch 85/100\n",
            "48000/48000 [==============================] - 2s 32us/step - loss: 0.0055 - acc: 0.9990 - val_loss: 0.1682 - val_acc: 0.9835\n",
            "\n",
            "Epoch 00085: val_loss did not improve from 0.10465\n",
            "Epoch 86/100\n",
            "48000/48000 [==============================] - 2s 33us/step - loss: 0.0052 - acc: 0.9989 - val_loss: 0.1753 - val_acc: 0.9823\n",
            "\n",
            "Epoch 00086: val_loss did not improve from 0.10465\n",
            "Epoch 87/100\n",
            "48000/48000 [==============================] - 2s 33us/step - loss: 0.0057 - acc: 0.9987 - val_loss: 0.1729 - val_acc: 0.9821\n",
            "\n",
            "Epoch 00087: val_loss did not improve from 0.10465\n",
            "Epoch 88/100\n",
            "48000/48000 [==============================] - 2s 33us/step - loss: 0.0086 - acc: 0.9986 - val_loss: 0.1830 - val_acc: 0.9826\n",
            "\n",
            "Epoch 00088: val_loss did not improve from 0.10465\n",
            "Epoch 89/100\n",
            "48000/48000 [==============================] - 2s 33us/step - loss: 0.0077 - acc: 0.9986 - val_loss: 0.1739 - val_acc: 0.9823\n",
            "\n",
            "Epoch 00089: val_loss did not improve from 0.10465\n",
            "Epoch 90/100\n",
            "48000/48000 [==============================] - 2s 33us/step - loss: 0.0062 - acc: 0.9987 - val_loss: 0.1710 - val_acc: 0.9840\n",
            "\n",
            "Epoch 00090: val_loss did not improve from 0.10465\n",
            "Epoch 91/100\n",
            "48000/48000 [==============================] - 2s 32us/step - loss: 0.0086 - acc: 0.9986 - val_loss: 0.1860 - val_acc: 0.9820\n",
            "\n",
            "Epoch 00091: val_loss did not improve from 0.10465\n",
            "Epoch 92/100\n",
            "48000/48000 [==============================] - 2s 32us/step - loss: 0.0072 - acc: 0.9988 - val_loss: 0.1849 - val_acc: 0.9829\n",
            "\n",
            "Epoch 00092: val_loss did not improve from 0.10465\n",
            "Epoch 93/100\n",
            "48000/48000 [==============================] - 2s 32us/step - loss: 0.0062 - acc: 0.9991 - val_loss: 0.2013 - val_acc: 0.9816\n",
            "\n",
            "Epoch 00093: val_loss did not improve from 0.10465\n",
            "Epoch 94/100\n",
            "48000/48000 [==============================] - 2s 33us/step - loss: 0.0081 - acc: 0.9987 - val_loss: 0.1870 - val_acc: 0.9822\n",
            "\n",
            "Epoch 00094: val_loss did not improve from 0.10465\n",
            "Epoch 95/100\n",
            "48000/48000 [==============================] - 2s 32us/step - loss: 0.0078 - acc: 0.9987 - val_loss: 0.1920 - val_acc: 0.9831\n",
            "\n",
            "Epoch 00095: val_loss did not improve from 0.10465\n",
            "Epoch 96/100\n",
            "48000/48000 [==============================] - 2s 32us/step - loss: 0.0069 - acc: 0.9990 - val_loss: 0.1960 - val_acc: 0.9815\n",
            "\n",
            "Epoch 00096: val_loss did not improve from 0.10465\n",
            "Epoch 97/100\n",
            "48000/48000 [==============================] - 2s 33us/step - loss: 0.0068 - acc: 0.9989 - val_loss: 0.1833 - val_acc: 0.9826\n",
            "\n",
            "Epoch 00097: val_loss did not improve from 0.10465\n",
            "Epoch 98/100\n",
            "48000/48000 [==============================] - 2s 32us/step - loss: 0.0065 - acc: 0.9989 - val_loss: 0.1746 - val_acc: 0.9837\n",
            "\n",
            "Epoch 00098: val_loss did not improve from 0.10465\n",
            "Epoch 99/100\n",
            "48000/48000 [==============================] - 2s 32us/step - loss: 0.0063 - acc: 0.9992 - val_loss: 0.1777 - val_acc: 0.9832\n",
            "\n",
            "Epoch 00099: val_loss did not improve from 0.10465\n",
            "Epoch 100/100\n",
            "48000/48000 [==============================] - 2s 32us/step - loss: 0.0082 - acc: 0.9988 - val_loss: 0.1840 - val_acc: 0.9821\n",
            "\n",
            "Epoch 00100: val_loss did not improve from 0.10465\n"
          ],
          "name": "stdout"
        }
      ]
    },
    {
      "cell_type": "markdown",
      "metadata": {
        "id": "sp0Zzxp0LLwg",
        "colab_type": "text"
      },
      "source": [
        "## load the model with the best classification accuracy on the set"
      ]
    },
    {
      "cell_type": "code",
      "metadata": {
        "id": "IVgKHiAfLLwi",
        "colab_type": "code",
        "colab": {}
      },
      "source": [
        "# load the models which yielded the best validaion accuracy on the set\n",
        "model.load_weights('mnist.model.best.hdf5')"
      ],
      "execution_count": 0,
      "outputs": []
    },
    {
      "cell_type": "markdown",
      "metadata": {
        "id": "KJ31GnMNLLwq",
        "colab_type": "text"
      },
      "source": [
        "## calculate the classification accuracy on the test set"
      ]
    },
    {
      "cell_type": "code",
      "metadata": {
        "id": "3KKkorulLLwt",
        "colab_type": "code",
        "colab": {
          "base_uri": "https://localhost:8080/",
          "height": 51
        },
        "outputId": "4ee7314e-2c87-48d0-fdf2-d2727c9c63cf"
      },
      "source": [
        "score=model.evaluate(x_test,y_test,verbose=0)\n",
        "print(score)\n",
        "accuracy=100*score[1]\n",
        "print(accuracy)"
      ],
      "execution_count": 14,
      "outputs": [
        {
          "output_type": "stream",
          "text": [
            "[0.08809179703994396, 0.9829]\n",
            "98.29\n"
          ],
          "name": "stdout"
        }
      ]
    }
  ]
}