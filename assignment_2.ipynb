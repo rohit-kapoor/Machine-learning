{
 "cells": [
  {
   "cell_type": "markdown",
   "metadata": {},
   "source": [
    "# ans to question no 1"
   ]
  },
  {
   "cell_type": "code",
   "execution_count": 1,
   "metadata": {},
   "outputs": [],
   "source": [
    "import numpy as np"
   ]
  },
  {
   "cell_type": "code",
   "execution_count": 2,
   "metadata": {},
   "outputs": [
    {
     "name": "stdout",
     "output_type": "stream",
     "text": [
      "[0. 0. 0. 0. 0. 0. 0. 0. 0. 0.]\n"
     ]
    }
   ],
   "source": [
    "my_array=np.zeros(10)\n",
    "print(my_array)"
   ]
  },
  {
   "cell_type": "markdown",
   "metadata": {},
   "source": [
    "# ans to question no 2"
   ]
  },
  {
   "cell_type": "code",
   "execution_count": 3,
   "metadata": {},
   "outputs": [
    {
     "name": "stdout",
     "output_type": "stream",
     "text": [
      "[0. 0. 0. 0. 1. 0. 0. 0. 0. 0.]\n"
     ]
    }
   ],
   "source": [
    "my_array[4]=1\n",
    "print(my_array)"
   ]
  },
  {
   "cell_type": "markdown",
   "metadata": {},
   "source": [
    "# ans to question no 3"
   ]
  },
  {
   "cell_type": "code",
   "execution_count": 4,
   "metadata": {},
   "outputs": [],
   "source": [
    "arr2=np.array([(0,1,2),(3,4,5),(6,7,8)])"
   ]
  },
  {
   "cell_type": "code",
   "execution_count": 5,
   "metadata": {},
   "outputs": [
    {
     "name": "stdout",
     "output_type": "stream",
     "text": [
      "[[0 1 2]\n",
      " [3 4 5]\n",
      " [6 7 8]]\n"
     ]
    }
   ],
   "source": [
    "print(arr2)"
   ]
  },
  {
   "cell_type": "markdown",
   "metadata": {},
   "source": [
    "# ans to question no 4"
   ]
  },
  {
   "cell_type": "code",
   "execution_count": 6,
   "metadata": {},
   "outputs": [
    {
     "name": "stdout",
     "output_type": "stream",
     "text": [
      "[[[5. 8. 2.]\n",
      "  [0. 4. 8.]\n",
      "  [1. 2. 2.]]\n",
      "\n",
      " [[1. 8. 2.]\n",
      "  [8. 2. 2.]\n",
      "  [1. 3. 8.]]\n",
      "\n",
      " [[0. 9. 1.]\n",
      "  [2. 8. 5.]\n",
      "  [6. 0. 4.]]]\n"
     ]
    }
   ],
   "source": [
    "import random\n",
    "arr3=np.zeros((3,3,3))\n",
    "string='0123456789'\n",
    "for i in range(0,3):\n",
    "    \n",
    "    for j in range(0,3):\n",
    "        for k in range(0,3):\n",
    "            arr3[i,j,k]=random.choice(string)\n",
    "print(arr3)            \n",
    "    \n",
    "    "
   ]
  },
  {
   "cell_type": "markdown",
   "metadata": {},
   "source": [
    "# ans to question no 5"
   ]
  },
  {
   "cell_type": "code",
   "execution_count": 7,
   "metadata": {},
   "outputs": [
    {
     "name": "stdout",
     "output_type": "stream",
     "text": [
      "[[7. 8. 2.]\n",
      " [3. 2. 0.]\n",
      " [7. 0. 1.]\n",
      " [0. 6. 3.]\n",
      " [3. 3. 9.]]\n",
      "[[5. 3.]\n",
      " [9. 6.]\n",
      " [7. 7.]]\n",
      "[[121.  83.]\n",
      " [ 33.  21.]\n",
      " [ 42.  28.]\n",
      " [ 75.  57.]\n",
      " [105.  90.]]\n"
     ]
    }
   ],
   "source": [
    "arr1=np.zeros((5,3))\n",
    "for i in range(0,5):\n",
    "    for j in range(0,3):\n",
    "        arr1[i,j]=random.choice(string)\n",
    "arr2=np.zeros((3,2))\n",
    "for i in range(0,3):\n",
    "    for j in range(0,2):\n",
    "        arr2[i,j]=random.choice(string)\n",
    "arr3=np.dot(arr1,arr2)\n",
    "print(arr1)\n",
    "print(arr2)\n",
    "print(arr3)"
   ]
  },
  {
   "cell_type": "markdown",
   "metadata": {},
   "source": [
    "# ans to question no 6"
   ]
  },
  {
   "cell_type": "code",
   "execution_count": 8,
   "metadata": {},
   "outputs": [
    {
     "name": "stdout",
     "output_type": "stream",
     "text": [
      "[[0. 1. 2. 3. 4.]\n",
      " [0. 1. 2. 3. 4.]\n",
      " [0. 1. 2. 3. 4.]\n",
      " [0. 1. 2. 3. 4.]\n",
      " [0. 1. 2. 3. 4.]]\n"
     ]
    }
   ],
   "source": [
    "arr=np.zeros((5,5))\n",
    "for i in range(0,5):\n",
    "    for j in range(0,5):\n",
    "        arr[i,j]=j\n",
    "print(arr)        "
   ]
  },
  {
   "cell_type": "markdown",
   "metadata": {},
   "source": [
    "# ans to question no 7"
   ]
  },
  {
   "cell_type": "code",
   "execution_count": 9,
   "metadata": {},
   "outputs": [
    {
     "name": "stdout",
     "output_type": "stream",
     "text": [
      "[[7. 8. 2.]\n",
      " [3. 2. 0.]\n",
      " [7. 0. 1.]\n",
      " [0. 6. 3.]\n",
      " [3. 3. 9.]]\n"
     ]
    }
   ],
   "source": [
    "print(arr1)"
   ]
  },
  {
   "cell_type": "code",
   "execution_count": 10,
   "metadata": {},
   "outputs": [
    {
     "name": "stdout",
     "output_type": "stream",
     "text": [
      "[[ 1.33333333  2.33333333 -3.66666667]\n",
      " [ 1.33333333  0.33333333 -1.66666667]\n",
      " [ 4.33333333 -2.66666667 -1.66666667]\n",
      " [-3.          3.          0.        ]\n",
      " [-2.         -2.          4.        ]]\n"
     ]
    }
   ],
   "source": [
    "lst=[]\n",
    "for i in range(0,5):\n",
    "    lst.append(arr1.mean(axis=1)[i])\n",
    "for i in range(0,5):\n",
    "    for j in range(0,3):\n",
    "        arr1[i,j]=arr1[i,j]-lst[i]\n",
    "print(arr1)        \n",
    "    "
   ]
  },
  {
   "cell_type": "markdown",
   "metadata": {},
   "source": [
    "# ans to question no 8"
   ]
  },
  {
   "cell_type": "code",
   "execution_count": 11,
   "metadata": {},
   "outputs": [
    {
     "name": "stdout",
     "output_type": "stream",
     "text": [
      "[[121.  83.]\n",
      " [ 33.  21.]\n",
      " [ 42.  28.]\n",
      " [ 75.  57.]\n",
      " [105.  90.]]\n"
     ]
    }
   ],
   "source": [
    "# we calculated the dot product in equation no 3\n",
    "print(arr3)"
   ]
  },
  {
   "cell_type": "code",
   "execution_count": 12,
   "metadata": {},
   "outputs": [
    {
     "name": "stdout",
     "output_type": "stream",
     "text": [
      "121.0\n",
      "21.0\n"
     ]
    }
   ],
   "source": [
    "for i in range(0,5):\n",
    "    for j in range(0,2):\n",
    "        if(i==j):\n",
    "            print(arr3[i,j])"
   ]
  },
  {
   "cell_type": "markdown",
   "metadata": {},
   "source": [
    "# ans to question no 9"
   ]
  },
  {
   "cell_type": "code",
   "execution_count": 13,
   "metadata": {},
   "outputs": [
    {
     "name": "stdout",
     "output_type": "stream",
     "text": [
      "[[[7. 3. 7.]\n",
      "  [2. 1. 7.]\n",
      "  [7. 0. 3.]]\n",
      "\n",
      " [[2. 7. 9.]\n",
      "  [9. 3. 9.]\n",
      "  [5. 8. 2.]]\n",
      "\n",
      " [[6. 7. 6.]\n",
      "  [8. 9. 2.]\n",
      "  [0. 1. 8.]]]\n"
     ]
    }
   ],
   "source": [
    "import random\n",
    "arr3=np.zeros((3,3,3))\n",
    "string='0123456789'\n",
    "for i in range(0,3):\n",
    "    \n",
    "    for j in range(0,3):\n",
    "        for k in range(0,3):\n",
    "            arr3[i,j,k]=random.choice(string)\n",
    "print(arr3)            \n",
    "    \n"
   ]
  },
  {
   "cell_type": "code",
   "execution_count": 14,
   "metadata": {},
   "outputs": [
    {
     "name": "stdout",
     "output_type": "stream",
     "text": [
      "the most frequent value is 7.0\n"
     ]
    }
   ],
   "source": [
    "from statistics import mode\n",
    "lst=[]\n",
    "\n",
    "\n",
    "for i in range(0,3):\n",
    "    for j in range(0,3):\n",
    "        for k in range(0,3):\n",
    "            t=arr3[i,j,k]\n",
    "            lst.append(t)\n",
    "        \n",
    "print('the most frequent value is',mode(lst))        "
   ]
  },
  {
   "cell_type": "markdown",
   "metadata": {},
   "source": [
    "# ans to question no 10"
   ]
  },
  {
   "cell_type": "code",
   "execution_count": 15,
   "metadata": {},
   "outputs": [
    {
     "name": "stdout",
     "output_type": "stream",
     "text": [
      "[0.27420081 0.79956836 0.94509726 0.79815232 0.52432462 0.33106653\n",
      " 0.34915558 0.17380837 0.86205591 0.32574984]\n",
      "[0.17380837 0.27420081 0.32574984 0.33106653 0.34915558 0.52432462\n",
      " 0.79815232 0.79956836 0.86205591 0.94509726]\n"
     ]
    }
   ],
   "source": [
    "random_vector=np.random.random(10)\n",
    "print(random_vector)# it gives the random vector \n",
    "random_vector.sort()# it sorts the vector within the array and does not return anything\n",
    "print(random_vector)# now we print the random vector to see if the changes have been made"
   ]
  },
  {
   "cell_type": "markdown",
   "metadata": {},
   "source": [
    "# question of pandas"
   ]
  },
  {
   "cell_type": "markdown",
   "metadata": {},
   "source": [
    "# ans to question no 1"
   ]
  },
  {
   "cell_type": "code",
   "execution_count": 16,
   "metadata": {},
   "outputs": [],
   "source": [
    "import pandas as pd\n",
    "from numpy import genfromtxt\n",
    "import csv"
   ]
  },
  {
   "cell_type": "code",
   "execution_count": 19,
   "metadata": {},
   "outputs": [
    {
     "name": "stdout",
     "output_type": "stream",
     "text": [
      "      order_id  quantity                              item_name  \\\n",
      "0            1         1           Chips and Fresh Tomato Salsa   \n",
      "1            1         1                                   Izze   \n",
      "2            1         1                       Nantucket Nectar   \n",
      "3            1         1  Chips and Tomatillo-Green Chili Salsa   \n",
      "4            2         2                           Chicken Bowl   \n",
      "5            3         1                           Chicken Bowl   \n",
      "6            3         1                          Side of Chips   \n",
      "7            4         1                          Steak Burrito   \n",
      "8            4         1                       Steak Soft Tacos   \n",
      "9            5         1                          Steak Burrito   \n",
      "10           5         1                    Chips and Guacamole   \n",
      "11           6         1                   Chicken Crispy Tacos   \n",
      "12           6         1                     Chicken Soft Tacos   \n",
      "13           7         1                           Chicken Bowl   \n",
      "14           7         1                    Chips and Guacamole   \n",
      "15           8         1  Chips and Tomatillo-Green Chili Salsa   \n",
      "16           8         1                        Chicken Burrito   \n",
      "17           9         1                        Chicken Burrito   \n",
      "18           9         2                            Canned Soda   \n",
      "19          10         1                           Chicken Bowl   \n",
      "20          10         1                    Chips and Guacamole   \n",
      "21          11         1                       Barbacoa Burrito   \n",
      "22          11         1                       Nantucket Nectar   \n",
      "23          12         1                        Chicken Burrito   \n",
      "24          12         1                                   Izze   \n",
      "25          13         1           Chips and Fresh Tomato Salsa   \n",
      "26          13         1                           Chicken Bowl   \n",
      "27          14         1                       Carnitas Burrito   \n",
      "28          14         1                            Canned Soda   \n",
      "29          15         1                        Chicken Burrito   \n",
      "...        ...       ...                                    ...   \n",
      "4592      1825         1                       Barbacoa Burrito   \n",
      "4593      1825         1                          Carnitas Bowl   \n",
      "4594      1825         1                          Barbacoa Bowl   \n",
      "4595      1826         1                           Chicken Bowl   \n",
      "4596      1826         1                    Chips and Guacamole   \n",
      "4597      1826         1                      Canned Soft Drink   \n",
      "4598      1826         1                          Bottled Water   \n",
      "4599      1827         1                           Chicken Bowl   \n",
      "4600      1827         1                    Chips and Guacamole   \n",
      "4601      1827         1                      Canned Soft Drink   \n",
      "4602      1827         1                       Barbacoa Burrito   \n",
      "4603      1827         1                       Barbacoa Burrito   \n",
      "4604      1828         1                           Chicken Bowl   \n",
      "4605      1828         1                    Chips and Guacamole   \n",
      "4606      1828         1                      Canned Soft Drink   \n",
      "4607      1829         1                          Steak Burrito   \n",
      "4608      1829         1                         Veggie Burrito   \n",
      "4609      1829         1                      Canned Soft Drink   \n",
      "4610      1830         1                          Steak Burrito   \n",
      "4611      1830         1                         Veggie Burrito   \n",
      "4612      1831         1                          Carnitas Bowl   \n",
      "4613      1831         1                                  Chips   \n",
      "4614      1831         1                          Bottled Water   \n",
      "4615      1832         1                     Chicken Soft Tacos   \n",
      "4616      1832         1                    Chips and Guacamole   \n",
      "4617      1833         1                          Steak Burrito   \n",
      "4618      1833         1                          Steak Burrito   \n",
      "4619      1834         1                     Chicken Salad Bowl   \n",
      "4620      1834         1                     Chicken Salad Bowl   \n",
      "4621      1834         1                     Chicken Salad Bowl   \n",
      "\n",
      "                                     choice_description item_price  \n",
      "0                                                   NaN     $2.39   \n",
      "1                                          [Clementine]     $3.39   \n",
      "2                                               [Apple]     $3.39   \n",
      "3                                                   NaN     $2.39   \n",
      "4     [Tomatillo-Red Chili Salsa (Hot), [Black Beans...    $16.98   \n",
      "5     [Fresh Tomato Salsa (Mild), [Rice, Cheese, Sou...    $10.98   \n",
      "6                                                   NaN     $1.69   \n",
      "7     [Tomatillo Red Chili Salsa, [Fajita Vegetables...    $11.75   \n",
      "8     [Tomatillo Green Chili Salsa, [Pinto Beans, Ch...     $9.25   \n",
      "9     [Fresh Tomato Salsa, [Rice, Black Beans, Pinto...     $9.25   \n",
      "10                                                  NaN     $4.45   \n",
      "11    [Roasted Chili Corn Salsa, [Fajita Vegetables,...     $8.75   \n",
      "12    [Roasted Chili Corn Salsa, [Rice, Black Beans,...     $8.75   \n",
      "13    [Fresh Tomato Salsa, [Fajita Vegetables, Rice,...    $11.25   \n",
      "14                                                  NaN     $4.45   \n",
      "15                                                  NaN     $2.39   \n",
      "16    [Tomatillo-Green Chili Salsa (Medium), [Pinto ...     $8.49   \n",
      "17    [Fresh Tomato Salsa (Mild), [Black Beans, Rice...     $8.49   \n",
      "18                                             [Sprite]     $2.18   \n",
      "19    [Tomatillo Red Chili Salsa, [Fajita Vegetables...     $8.75   \n",
      "20                                                  NaN     $4.45   \n",
      "21    [[Fresh Tomato Salsa (Mild), Tomatillo-Green C...     $8.99   \n",
      "22                                 [Pomegranate Cherry]     $3.39   \n",
      "23    [[Tomatillo-Green Chili Salsa (Medium), Tomati...    $10.98   \n",
      "24                                         [Grapefruit]     $3.39   \n",
      "25                                                  NaN     $2.39   \n",
      "26    [Roasted Chili Corn Salsa (Medium), [Pinto Bea...     $8.49   \n",
      "27    [[Tomatillo-Green Chili Salsa (Medium), Roaste...     $8.99   \n",
      "28                                         [Dr. Pepper]     $1.09   \n",
      "29    [Tomatillo-Green Chili Salsa (Medium), [Pinto ...     $8.49   \n",
      "...                                                 ...        ...  \n",
      "4592  [Tomatillo Red Chili Salsa, [Rice, Fajita Vege...    $11.75   \n",
      "4593  [Roasted Chili Corn Salsa, [Rice, Sour Cream, ...    $11.75   \n",
      "4594  [Roasted Chili Corn Salsa, [Pinto Beans, Sour ...    $11.75   \n",
      "4595  [Tomatillo Green Chili Salsa, [Rice, Black Bea...     $8.75   \n",
      "4596                                                NaN     $4.45   \n",
      "4597                                           [Nestea]     $1.25   \n",
      "4598                                                NaN     $1.50   \n",
      "4599      [Roasted Chili Corn Salsa, [Cheese, Lettuce]]     $8.75   \n",
      "4600                                                NaN     $4.45   \n",
      "4601                                        [Diet Coke]     $1.25   \n",
      "4602                      [Tomatillo Green Chili Salsa]     $9.25   \n",
      "4603                      [Tomatillo Green Chili Salsa]     $9.25   \n",
      "4604  [Fresh Tomato Salsa, [Rice, Black Beans, Chees...     $8.75   \n",
      "4605                                                NaN     $4.45   \n",
      "4606                                             [Coke]     $1.25   \n",
      "4607  [Tomatillo Green Chili Salsa, [Rice, Cheese, S...    $11.75   \n",
      "4608  [Tomatillo Red Chili Salsa, [Fajita Vegetables...    $11.25   \n",
      "4609                                           [Sprite]     $1.25   \n",
      "4610  [Fresh Tomato Salsa, [Rice, Sour Cream, Cheese...    $11.75   \n",
      "4611  [Tomatillo Green Chili Salsa, [Rice, Fajita Ve...    $11.25   \n",
      "4612  [Fresh Tomato Salsa, [Fajita Vegetables, Rice,...     $9.25   \n",
      "4613                                                NaN     $2.15   \n",
      "4614                                                NaN     $1.50   \n",
      "4615   [Fresh Tomato Salsa, [Rice, Cheese, Sour Cream]]     $8.75   \n",
      "4616                                                NaN     $4.45   \n",
      "4617  [Fresh Tomato Salsa, [Rice, Black Beans, Sour ...    $11.75   \n",
      "4618  [Fresh Tomato Salsa, [Rice, Sour Cream, Cheese...    $11.75   \n",
      "4619  [Fresh Tomato Salsa, [Fajita Vegetables, Pinto...    $11.25   \n",
      "4620  [Fresh Tomato Salsa, [Fajita Vegetables, Lettu...     $8.75   \n",
      "4621  [Fresh Tomato Salsa, [Fajita Vegetables, Pinto...     $8.75   \n",
      "\n",
      "[4622 rows x 5 columns]\n"
     ]
    }
   ],
   "source": [
    "chipo=pd.read_csv('../datasets/chipotle.tsv',sep='\\t')\n",
    "print(chipo)"
   ]
  },
  {
   "cell_type": "markdown",
   "metadata": {},
   "source": [
    "## ans to question no 2"
   ]
  },
  {
   "cell_type": "code",
   "execution_count": 20,
   "metadata": {},
   "outputs": [
    {
     "data": {
      "text/html": [
       "<div>\n",
       "<style scoped>\n",
       "    .dataframe tbody tr th:only-of-type {\n",
       "        vertical-align: middle;\n",
       "    }\n",
       "\n",
       "    .dataframe tbody tr th {\n",
       "        vertical-align: top;\n",
       "    }\n",
       "\n",
       "    .dataframe thead th {\n",
       "        text-align: right;\n",
       "    }\n",
       "</style>\n",
       "<table border=\"1\" class=\"dataframe\">\n",
       "  <thead>\n",
       "    <tr style=\"text-align: right;\">\n",
       "      <th></th>\n",
       "      <th>order_id</th>\n",
       "      <th>quantity</th>\n",
       "      <th>item_name</th>\n",
       "      <th>choice_description</th>\n",
       "      <th>item_price</th>\n",
       "    </tr>\n",
       "  </thead>\n",
       "  <tbody>\n",
       "    <tr>\n",
       "      <th>0</th>\n",
       "      <td>1</td>\n",
       "      <td>1</td>\n",
       "      <td>Chips and Fresh Tomato Salsa</td>\n",
       "      <td>NaN</td>\n",
       "      <td>$2.39</td>\n",
       "    </tr>\n",
       "    <tr>\n",
       "      <th>1</th>\n",
       "      <td>1</td>\n",
       "      <td>1</td>\n",
       "      <td>Izze</td>\n",
       "      <td>[Clementine]</td>\n",
       "      <td>$3.39</td>\n",
       "    </tr>\n",
       "    <tr>\n",
       "      <th>2</th>\n",
       "      <td>1</td>\n",
       "      <td>1</td>\n",
       "      <td>Nantucket Nectar</td>\n",
       "      <td>[Apple]</td>\n",
       "      <td>$3.39</td>\n",
       "    </tr>\n",
       "    <tr>\n",
       "      <th>3</th>\n",
       "      <td>1</td>\n",
       "      <td>1</td>\n",
       "      <td>Chips and Tomatillo-Green Chili Salsa</td>\n",
       "      <td>NaN</td>\n",
       "      <td>$2.39</td>\n",
       "    </tr>\n",
       "    <tr>\n",
       "      <th>4</th>\n",
       "      <td>2</td>\n",
       "      <td>2</td>\n",
       "      <td>Chicken Bowl</td>\n",
       "      <td>[Tomatillo-Red Chili Salsa (Hot), [Black Beans...</td>\n",
       "      <td>$16.98</td>\n",
       "    </tr>\n",
       "    <tr>\n",
       "      <th>5</th>\n",
       "      <td>3</td>\n",
       "      <td>1</td>\n",
       "      <td>Chicken Bowl</td>\n",
       "      <td>[Fresh Tomato Salsa (Mild), [Rice, Cheese, Sou...</td>\n",
       "      <td>$10.98</td>\n",
       "    </tr>\n",
       "    <tr>\n",
       "      <th>6</th>\n",
       "      <td>3</td>\n",
       "      <td>1</td>\n",
       "      <td>Side of Chips</td>\n",
       "      <td>NaN</td>\n",
       "      <td>$1.69</td>\n",
       "    </tr>\n",
       "    <tr>\n",
       "      <th>7</th>\n",
       "      <td>4</td>\n",
       "      <td>1</td>\n",
       "      <td>Steak Burrito</td>\n",
       "      <td>[Tomatillo Red Chili Salsa, [Fajita Vegetables...</td>\n",
       "      <td>$11.75</td>\n",
       "    </tr>\n",
       "    <tr>\n",
       "      <th>8</th>\n",
       "      <td>4</td>\n",
       "      <td>1</td>\n",
       "      <td>Steak Soft Tacos</td>\n",
       "      <td>[Tomatillo Green Chili Salsa, [Pinto Beans, Ch...</td>\n",
       "      <td>$9.25</td>\n",
       "    </tr>\n",
       "    <tr>\n",
       "      <th>9</th>\n",
       "      <td>5</td>\n",
       "      <td>1</td>\n",
       "      <td>Steak Burrito</td>\n",
       "      <td>[Fresh Tomato Salsa, [Rice, Black Beans, Pinto...</td>\n",
       "      <td>$9.25</td>\n",
       "    </tr>\n",
       "  </tbody>\n",
       "</table>\n",
       "</div>"
      ],
      "text/plain": [
       "   order_id  quantity                              item_name  \\\n",
       "0         1         1           Chips and Fresh Tomato Salsa   \n",
       "1         1         1                                   Izze   \n",
       "2         1         1                       Nantucket Nectar   \n",
       "3         1         1  Chips and Tomatillo-Green Chili Salsa   \n",
       "4         2         2                           Chicken Bowl   \n",
       "5         3         1                           Chicken Bowl   \n",
       "6         3         1                          Side of Chips   \n",
       "7         4         1                          Steak Burrito   \n",
       "8         4         1                       Steak Soft Tacos   \n",
       "9         5         1                          Steak Burrito   \n",
       "\n",
       "                                  choice_description item_price  \n",
       "0                                                NaN     $2.39   \n",
       "1                                       [Clementine]     $3.39   \n",
       "2                                            [Apple]     $3.39   \n",
       "3                                                NaN     $2.39   \n",
       "4  [Tomatillo-Red Chili Salsa (Hot), [Black Beans...    $16.98   \n",
       "5  [Fresh Tomato Salsa (Mild), [Rice, Cheese, Sou...    $10.98   \n",
       "6                                                NaN     $1.69   \n",
       "7  [Tomatillo Red Chili Salsa, [Fajita Vegetables...    $11.75   \n",
       "8  [Tomatillo Green Chili Salsa, [Pinto Beans, Ch...     $9.25   \n",
       "9  [Fresh Tomato Salsa, [Rice, Black Beans, Pinto...     $9.25   "
      ]
     },
     "execution_count": 20,
     "metadata": {},
     "output_type": "execute_result"
    }
   ],
   "source": [
    "chipo.head(10)\n"
   ]
  },
  {
   "cell_type": "markdown",
   "metadata": {},
   "source": [
    "# ans to question no 3"
   ]
  },
  {
   "cell_type": "code",
   "execution_count": 21,
   "metadata": {},
   "outputs": [
    {
     "data": {
      "text/plain": [
       "order_id              4622\n",
       "quantity              4622\n",
       "item_name             4622\n",
       "choice_description    3376\n",
       "item_price            4622\n",
       "dtype: int64"
      ]
     },
     "execution_count": 21,
     "metadata": {},
     "output_type": "execute_result"
    }
   ],
   "source": [
    "chipo.count()"
   ]
  },
  {
   "cell_type": "markdown",
   "metadata": {},
   "source": [
    "it gives me the total no no of observations in the dataset which is equal to 4622"
   ]
  },
  {
   "cell_type": "markdown",
   "metadata": {},
   "source": [
    "# ans to question no 5"
   ]
  },
  {
   "cell_type": "code",
   "execution_count": 22,
   "metadata": {},
   "outputs": [
    {
     "data": {
      "text/plain": [
       "Index(['order_id', 'quantity', 'item_name', 'choice_description',\n",
       "       'item_price'],\n",
       "      dtype='object')"
      ]
     },
     "execution_count": 22,
     "metadata": {},
     "output_type": "execute_result"
    }
   ],
   "source": [
    "chipo.columns"
   ]
  },
  {
   "cell_type": "markdown",
   "metadata": {},
   "source": [
    "# ans to question no 4"
   ]
  },
  {
   "cell_type": "code",
   "execution_count": 23,
   "metadata": {},
   "outputs": [
    {
     "data": {
      "text/plain": [
       "5"
      ]
     },
     "execution_count": 23,
     "metadata": {},
     "output_type": "execute_result"
    }
   ],
   "source": [
    "len(chipo.columns)"
   ]
  },
  {
   "cell_type": "markdown",
   "metadata": {},
   "source": [
    "this is how we calculate the no of columns ina dataset"
   ]
  },
  {
   "cell_type": "markdown",
   "metadata": {},
   "source": [
    "# ans to question no 7 and 8"
   ]
  },
  {
   "cell_type": "code",
   "execution_count": 24,
   "metadata": {},
   "outputs": [
    {
     "ename": "NameError",
     "evalue": "name 'n_d' is not defined",
     "output_type": "error",
     "traceback": [
      "\u001b[1;31m---------------------------------------------------------------------------\u001b[0m",
      "\u001b[1;31mNameError\u001b[0m                                 Traceback (most recent call last)",
      "\u001b[1;32m<ipython-input-24-4426cd9ca918>\u001b[0m in \u001b[0;36m<module>\u001b[1;34m()\u001b[0m\n\u001b[0;32m      3\u001b[0m \u001b[0mitem\u001b[0m \u001b[1;33m=\u001b[0m \u001b[0mmax\u001b[0m \u001b[1;33m(\u001b[0m\u001b[0mn_dt\u001b[0m\u001b[1;33m)\u001b[0m\u001b[1;33m\u001b[0m\u001b[0m\n\u001b[0;32m      4\u001b[0m \u001b[1;33m\u001b[0m\u001b[0m\n\u001b[1;32m----> 5\u001b[1;33m \u001b[1;32mfor\u001b[0m \u001b[0mi\u001b[0m \u001b[1;32min\u001b[0m \u001b[0mrange\u001b[0m \u001b[1;33m(\u001b[0m\u001b[0mlen\u001b[0m \u001b[1;33m(\u001b[0m\u001b[0mn_d\u001b[0m\u001b[1;33m)\u001b[0m\u001b[1;33m)\u001b[0m\u001b[1;33m:\u001b[0m\u001b[1;33m\u001b[0m\u001b[0m\n\u001b[0m\u001b[0;32m      6\u001b[0m     \u001b[0mt\u001b[0m\u001b[1;33m=\u001b[0m\u001b[0mdf\u001b[0m\u001b[1;33m[\u001b[0m\u001b[0mi\u001b[0m\u001b[1;33m]\u001b[0m\u001b[1;33m\u001b[0m\u001b[0m\n\u001b[0;32m      7\u001b[0m     \u001b[1;32mif\u001b[0m \u001b[0mt\u001b[0m\u001b[1;33m==\u001b[0m\u001b[0mitem\u001b[0m\u001b[1;33m:\u001b[0m\u001b[1;33m\u001b[0m\u001b[0m\n",
      "\u001b[1;31mNameError\u001b[0m: name 'n_d' is not defined"
     ]
    }
   ],
   "source": [
    "df=chipo.groupby('item_name')['quantity']\n",
    "n_dt=df.count()\n",
    "item = max (n_dt)\n",
    "\n",
    "for i in range (len (n_d)):\n",
    "    t=df[i]\n",
    "    if t==item:\n",
    "        print (st,'is the most ordered item')\n",
    "        break\n",
    "        "
   ]
  },
  {
   "cell_type": "code",
   "execution_count": 26,
   "metadata": {},
   "outputs": [
    {
     "name": "stdout",
     "output_type": "stream",
     "text": [
      "<pandas.core.groupby.groupby.SeriesGroupBy object at 0x000000ABDB8263C8>\n"
     ]
    }
   ],
   "source": [
    "print(df)"
   ]
  },
  {
   "cell_type": "markdown",
   "metadata": {},
   "source": [
    "chicken bowl was most ordered"
   ]
  },
  {
   "cell_type": "code",
   "execution_count": null,
   "metadata": {},
   "outputs": [],
   "source": [
    "df=chipo.groupby('item_name')['quantity'].count()"
   ]
  },
  {
   "cell_type": "code",
   "execution_count": null,
   "metadata": {},
   "outputs": [],
   "source": [
    "dir(df)"
   ]
  },
  {
   "cell_type": "code",
   "execution_count": null,
   "metadata": {},
   "outputs": [],
   "source": [
    "df.iloc[:]"
   ]
  },
  {
   "cell_type": "markdown",
   "metadata": {},
   "source": [
    "## ans to question no 6"
   ]
  },
  {
   "cell_type": "code",
   "execution_count": null,
   "metadata": {},
   "outputs": [],
   "source": [
    "chipo.index"
   ]
  },
  {
   "cell_type": "markdown",
   "metadata": {},
   "source": [
    "this is how the data set has been indexed starting from zero ending at 4622 and having a step value of 1"
   ]
  },
  {
   "cell_type": "markdown",
   "metadata": {},
   "source": [
    "# ans to question no 10"
   ]
  },
  {
   "cell_type": "code",
   "execution_count": null,
   "metadata": {},
   "outputs": [],
   "source": [
    "chipo['quantity'].sum()"
   ]
  },
  {
   "cell_type": "markdown",
   "metadata": {},
   "source": [
    "thus a total of 4972 items were ordered"
   ]
  },
  {
   "cell_type": "markdown",
   "metadata": {},
   "source": [
    "# ans to question no 11(to turn item price into float)"
   ]
  },
  {
   "cell_type": "code",
   "execution_count": null,
   "metadata": {},
   "outputs": [],
   "source": [
    "chipo['item_price'].dtype"
   ]
  },
  {
   "cell_type": "markdown",
   "metadata": {},
   "source": [
    "clearly it is a string value"
   ]
  },
  {
   "cell_type": "code",
   "execution_count": null,
   "metadata": {},
   "outputs": [],
   "source": [
    "lst=[]\n",
    "for i in range(len(chipo)):\n",
    "    string=chipo['item_price'][i].split('$')[1]\n",
    "    lst.append(float(string))\n",
    "    "
   ]
  },
  {
   "cell_type": "code",
   "execution_count": null,
   "metadata": {},
   "outputs": [],
   "source": [
    "chipo['price_float']=lst"
   ]
  },
  {
   "cell_type": "code",
   "execution_count": null,
   "metadata": {},
   "outputs": [],
   "source": [
    "chipo.head()"
   ]
  },
  {
   "cell_type": "markdown",
   "metadata": {},
   "source": [
    "clearly the prices have been displayed in float values in a new column"
   ]
  },
  {
   "cell_type": "markdown",
   "metadata": {},
   "source": [
    "# ans to question no 12"
   ]
  },
  {
   "cell_type": "code",
   "execution_count": null,
   "metadata": {},
   "outputs": [],
   "source": [
    "chipo['price_float'].dtype"
   ]
  },
  {
   "cell_type": "markdown",
   "metadata": {},
   "source": [
    "clearly the type has been changed to float"
   ]
  },
  {
   "cell_type": "markdown",
   "metadata": {},
   "source": [
    "# ans to question no 13"
   ]
  },
  {
   "cell_type": "code",
   "execution_count": null,
   "metadata": {},
   "outputs": [],
   "source": [
    "chipo['price_float'].sum()"
   ]
  },
  {
   "cell_type": "markdown",
   "metadata": {},
   "source": [
    "the revenue for the period was 34500 dollars"
   ]
  },
  {
   "cell_type": "markdown",
   "metadata": {},
   "source": [
    "## ans to question no 14"
   ]
  },
  {
   "cell_type": "code",
   "execution_count": null,
   "metadata": {},
   "outputs": [],
   "source": [
    "\n",
    "\n",
    "len(chipo['item_name'].unique())"
   ]
  },
  {
   "cell_type": "markdown",
   "metadata": {},
   "source": [
    "thus a total of 50 unique items were sold"
   ]
  },
  {
   "cell_type": "markdown",
   "metadata": {},
   "source": [
    "# ans to question no 15"
   ]
  },
  {
   "cell_type": "code",
   "execution_count": null,
   "metadata": {},
   "outputs": [],
   "source": [
    "length=len(chipo['order_id'].unique())\n",
    "print(length)"
   ]
  },
  {
   "cell_type": "markdown",
   "metadata": {},
   "source": [
    "thus a total of 1834 orders were made during the time"
   ]
  },
  {
   "cell_type": "markdown",
   "metadata": {},
   "source": [
    "# ans to question no 16"
   ]
  },
  {
   "cell_type": "code",
   "execution_count": null,
   "metadata": {},
   "outputs": [],
   "source": [
    "sum(chipo['price_float'])/length"
   ]
  },
  {
   "cell_type": "code",
   "execution_count": null,
   "metadata": {},
   "outputs": [],
   "source": []
  }
 ],
 "metadata": {
  "kernelspec": {
   "display_name": "Python 3",
   "language": "python",
   "name": "python3"
  },
  "language_info": {
   "codemirror_mode": {
    "name": "ipython",
    "version": 3
   },
   "file_extension": ".py",
   "mimetype": "text/x-python",
   "name": "python",
   "nbconvert_exporter": "python",
   "pygments_lexer": "ipython3",
   "version": "3.6.5"
  }
 },
 "nbformat": 4,
 "nbformat_minor": 2
}
