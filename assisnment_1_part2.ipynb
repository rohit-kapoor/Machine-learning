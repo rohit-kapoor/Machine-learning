{
 "cells": [
  {
   "cell_type": "markdown",
   "metadata": {},
   "source": [
    "## ans to question 9\n"
   ]
  },
  {
   "cell_type": "code",
   "execution_count": 1,
   "metadata": {},
   "outputs": [
    {
     "name": "stdout",
     "output_type": "stream",
     "text": [
      "please enter three integer values\n",
      "2\n",
      "3\n",
      "1\n",
      "the numbers in sorted order are\n",
      "2 1 3\n"
     ]
    }
   ],
   "source": [
    "print(\"please enter three integer values\")\n",
    "x=int(input())\n",
    "y=int(input())\n",
    "z=int(input())\n",
    "\n",
    "m1=max(x,y,z)\n",
    "m2=min(x,y,z)\n",
    "m3=(x+y+z)-(m1+m2)\n",
    "print(\"the numbers in sorted order are\")\n",
    "print(m3,m2,m1)"
   ]
  },
  {
   "cell_type": "markdown",
   "metadata": {},
   "source": [
    "now let us compare a few strings lexicographically ie.the order in which they will be printed in a dictionary"
   ]
  },
  {
   "cell_type": "code",
   "execution_count": 2,
   "metadata": {},
   "outputs": [
    {
     "name": "stdout",
     "output_type": "stream",
     "text": [
      "geeks\n"
     ]
    }
   ],
   "source": [
    "s=min(\"geeks\",\"manjeet\",\"programming\",\"python\")\n",
    "print(s)"
   ]
  },
  {
   "cell_type": "code",
   "execution_count": 3,
   "metadata": {},
   "outputs": [
    {
     "name": "stdout",
     "output_type": "stream",
     "text": [
      "python\n"
     ]
    }
   ],
   "source": [
    "s=max(\"geeks\",\"manjeet\",\"programming\",\"python\")\n",
    "print(s)"
   ]
  },
  {
   "cell_type": "markdown",
   "metadata": {},
   "source": [
    "## ans to qestion 10"
   ]
  },
  {
   "cell_type": "code",
   "execution_count": 4,
   "metadata": {},
   "outputs": [
    {
     "name": "stdout",
     "output_type": "stream",
     "text": [
      "please enter the name of the monthfebuary\n",
      "the no of days is =28 or 29\n"
     ]
    }
   ],
   "source": [
    "s=input(\"please enter the name of the month\")\n",
    "\n",
    "if s==(\"january\" or \"march\" or \"may\" or \"july\" or \"august\" or \"octuber\" or \"december\"):\n",
    "    print(\"the no of days = 31\")\n",
    "elif s==(\"april\",\"june\",\"september\",\"november\"):\n",
    "    print(\"the no of days =30\")\n",
    "elif s==(\"febuary\"):\n",
    "    print(\"the no of days is =28 or 29\")\n",
    "else:\n",
    "    print(\"wrong input\")\n",
    "    "
   ]
  },
  {
   "cell_type": "markdown",
   "metadata": {},
   "source": [
    "program based on logical operators"
   ]
  },
  {
   "cell_type": "code",
   "execution_count": 5,
   "metadata": {},
   "outputs": [
    {
     "name": "stdout",
     "output_type": "stream",
     "text": [
      "result of and False\n",
      "result of or True\n",
      "result of not False\n"
     ]
    }
   ],
   "source": [
    "x=True\n",
    "y=False\n",
    "\n",
    "print(\"result of and\",x and y)\n",
    "print(\"result of or\",x or y)\n",
    "print(\"result of not\",not x)"
   ]
  },
  {
   "cell_type": "markdown",
   "metadata": {},
   "source": [
    "## ans to qestion no 11"
   ]
  },
  {
   "cell_type": "code",
   "execution_count": 6,
   "metadata": {},
   "outputs": [
    {
     "name": "stdout",
     "output_type": "stream",
     "text": [
      "please enter the values\n",
      "print 0 to end entering the values\n",
      "2\n",
      "3\n",
      "2\n",
      "4\n",
      "5\n",
      "0\n",
      "the average of the numbers is 3.2\n"
     ]
    }
   ],
   "source": [
    "print(\"please enter the values\")\n",
    "print(\"print 0 to end entering the values\")\n",
    "s,n=0,0\n",
    "while True:\n",
    "    x=int(input())\n",
    "    if x==0:\n",
    "        break\n",
    "    else:    \n",
    "        s=s+x\n",
    "        n=n+1\n",
    "if n==0:\n",
    "    print(\"print the first no entered cannot be zero\")\n",
    "else:\n",
    "    avg= s/n\n",
    "    print(\"the average of the numbers is\",avg)"
   ]
  },
  {
   "cell_type": "code",
   "execution_count": 7,
   "metadata": {},
   "outputs": [],
   "source": [
    "## ans to question 12\n"
   ]
  },
  {
   "cell_type": "code",
   "execution_count": 8,
   "metadata": {},
   "outputs": [
    {
     "name": "stdout",
     "output_type": "stream",
     "text": [
      "please enter the number whose square root has to be evaluated25\n",
      "the square root of the number is 7.25\n"
     ]
    }
   ],
   "source": [
    "x=int(input(\"please enter the number whose square root has to be evaluated\"))\n",
    "guess=x/2\n",
    "\n",
    "i=guess*guess -x\n",
    "\n",
    "if i<0:\n",
    "    i=-i\n",
    "\n",
    "if i<10:\n",
    "    print(\"the square root of the number is\",guess)\n",
    "else:\n",
    "    guess=(guess+(x/guess))/2\n",
    "    print(\"the square root of the number is\",guess)"
   ]
  },
  {
   "cell_type": "markdown",
   "metadata": {},
   "source": [
    "## ans to question no 13"
   ]
  },
  {
   "cell_type": "markdown",
   "metadata": {},
   "source": [
    "13. Write a function that takes the lengths of the two shorter sides of a\n",
    "right triangle as its parameters. Return the hypotenuse of the triangle,\n",
    "computed using Pythagorean theorem, as the function’s result.\n",
    "Include a main program that reads the lengths of the shorter sides of\n",
    "a right triangle from the user, uses your function to compute the\n",
    "length of the hypotenuse, and displays the result."
   ]
  },
  {
   "cell_type": "code",
   "execution_count": 9,
   "metadata": {},
   "outputs": [],
   "source": [
    "def triangle(x,y):\n",
    "    h=  (x*x +y*y)**(1/2)\n",
    "    return h"
   ]
  },
  {
   "cell_type": "code",
   "execution_count": 10,
   "metadata": {},
   "outputs": [
    {
     "name": "stdout",
     "output_type": "stream",
     "text": [
      "please enter the two smaller sides of the triangle\n",
      "2\n",
      "3\n",
      "the hypotenuse of the triangle is 3.605551275463989\n"
     ]
    }
   ],
   "source": [
    "print(\"please enter the two smaller sides of the triangle\")\n",
    "x=int(input())\n",
    "y=int(input())\n",
    "\n",
    "hy=triangle(x,y)\n",
    "print(\"the hypotenuse of the triangle is\",hy)\n",
    "    "
   ]
  },
  {
   "cell_type": "markdown",
   "metadata": {},
   "source": [
    "## ans to question no 14"
   ]
  },
  {
   "cell_type": "markdown",
   "metadata": {},
   "source": [
    "To find the median of any set of numbers, put them in order from smallest to greatest. If a number occurs more than once, list it more than once. The number in the middle is the median. If there is an even number of numbers, the median is the average of the two numbers in the middle. For your first example, we line them up: 3,6,6. Since 6 is in the middle, it is the median."
   ]
  },
  {
   "cell_type": "markdown",
   "metadata": {},
   "source": [
    "14. Write a function that takes three numbers as parameters, and\n",
    "returns the median value of those parameters as its result. Include a\n",
    "main program that reads three values from the user and displays their\n",
    "median.\n",
    "Hint: The median value is the middle of the three values when they\n",
    "are sorted into ascending order. It can be found using if statements,\n",
    "or with a little bit of mathematical creativity."
   ]
  },
  {
   "cell_type": "code",
   "execution_count": 11,
   "metadata": {},
   "outputs": [
    {
     "name": "stdout",
     "output_type": "stream",
     "text": [
      "[1, 2, 3, 4, 5, 6, 8]\n",
      "sorted list returned\n",
      "[2, 3, 1, 5, 4, 8, 6]\n",
      "no change in the original list\n"
     ]
    }
   ],
   "source": [
    "x=[2,3,1,5,4,8,6]\n",
    "y=sorted(x)\n",
    "print(y)\n",
    "print(\"sorted list returned\")\n",
    "print(x)\n",
    "print(\"no change in the original list\")"
   ]
  },
  {
   "cell_type": "code",
   "execution_count": 12,
   "metadata": {},
   "outputs": [],
   "source": [
    "def med(a,b,c):\n",
    "    l=[a,b,c]\n",
    "    li=sorted(l)\n",
    "    m=li[1]\n",
    "    return m"
   ]
  },
  {
   "cell_type": "code",
   "execution_count": 13,
   "metadata": {},
   "outputs": [
    {
     "name": "stdout",
     "output_type": "stream",
     "text": [
      "please enter the values\n",
      "2\n",
      "4\n",
      "1\n",
      "2\n"
     ]
    }
   ],
   "source": [
    "print(\"please enter the values\")\n",
    "a=int(input())\n",
    "b=int(input())\n",
    "c=int(input())\n",
    "e=med(a,b,c)\n",
    "print(e)\n"
   ]
  },
  {
   "cell_type": "markdown",
   "metadata": {},
   "source": [
    "## ans to question no 15"
   ]
  },
  {
   "cell_type": "markdown",
   "metadata": {},
   "source": [
    "15. Many people do not use capital letters correctly, especially when\n",
    "typing on small devices like smart phones. In this exercise, you will\n",
    "write a function that capitalizes the appropriate characters in a string.\n",
    "A lowercase “i” should be replaced with an uppercase “I” if it is both\n",
    "preceded and followed by a space. The first character in the string\n",
    "should also be capitalized.\n"
   ]
  },
  {
   "cell_type": "code",
   "execution_count": 18,
   "metadata": {},
   "outputs": [
    {
     "name": "stdout",
     "output_type": "stream",
     "text": [
      "Take my single life like what it is namely a temporary phase which I will make beautiful\n"
     ]
    }
   ],
   "source": [
    "s=\"take my single life like what it is namely a temporary phase which i will make beautiful\"\n",
    "s1=s.capitalize()\n",
    "s2=s1.replace(\" i \",\" I \")\n",
    "\n",
    "print(s2)"
   ]
  },
  {
   "cell_type": "markdown",
   "metadata": {},
   "source": [
    "first you need to use the capitalize function because it makes the fist letter capital and makes all other letters small\n",
    "also you should not leave the fist letter blank the fuction will not work"
   ]
  },
  {
   "cell_type": "markdown",
   "metadata": {},
   "source": [
    "## ans to question no 16"
   ]
  },
  {
   "cell_type": "markdown",
   "metadata": {},
   "source": [
    "16. In a particular jurisdiction, older license plates consist of three\n",
    "letters followed by three numbers. When all of the license plates\n",
    "following that pattern had been used, the format was changed to four\n",
    "numbers followed by three letters.\n",
    "Write a function that generates a random license plate. Your function\n",
    "should have approximately equal odds of generating a sequence of\n",
    "characters for an old license plate or a new license plate. Write a\n",
    "main program that calls your function and displays the randomly\n",
    "generated license plate."
   ]
  },
  {
   "cell_type": "markdown",
   "metadata": {},
   "source": [
    "consider a similar question first the n we will move on to the question"
   ]
  },
  {
   "cell_type": "code",
   "execution_count": 22,
   "metadata": {},
   "outputs": [
    {
     "name": "stdout",
     "output_type": "stream",
     "text": [
      "PARS7Y9WTH\n"
     ]
    }
   ],
   "source": [
    "import random\n",
    "import string\n",
    "def get_random_string(length):\n",
    "    random_list=[]\n",
    "    for i in range(length):\n",
    "        random_list.append(random.choice(string.ascii_uppercase + string.digits))\n",
    "    return \"\".join(random_list)\n",
    "print(get_random_string(10))"
   ]
  },
  {
   "cell_type": "markdown",
   "metadata": {},
   "source": [
    "now let us consider the question"
   ]
  },
  {
   "cell_type": "code",
   "execution_count": null,
   "metadata": {},
   "outputs": [],
   "source": [
    "if (rand() < RAND_MAX / 2)\n",
    "{\n",
    "  \n",
    "}\n",
    "else\n",
    "{\n",
    "  /* Pick the other number */\n",
    "}"
   ]
  },
  {
   "cell_type": "code",
   "execution_count": null,
   "metadata": {},
   "outputs": [],
   "source": [
    "import random\n",
    "import string\n",
    "def plate_no():\n",
    "    random_list=[]\n",
    "    for i in range()\n"
   ]
  },
  {
   "cell_type": "code",
   "execution_count": null,
   "metadata": {},
   "outputs": [],
   "source": []
  },
  {
   "cell_type": "markdown",
   "metadata": {},
   "source": [
    "## ans to question 17"
   ]
  },
  {
   "cell_type": "markdown",
   "metadata": {},
   "source": [
    "17. Write a program that reads integers from the user and stores them\n",
    "in a list. Use 0 as a sentinel value to mark the end of the input. Once\n",
    "all of the values have been read your program should display them\n",
    "(except for the 0) in reverse order, with one value appearing on each\n",
    "line."
   ]
  },
  {
   "cell_type": "code",
   "execution_count": 4,
   "metadata": {},
   "outputs": [
    {
     "name": "stdout",
     "output_type": "stream",
     "text": [
      "please enter the values\n",
      "press zero to stop entering\n",
      "2\n",
      "3\n",
      "4\n",
      "5\n",
      "6\n",
      "7\n",
      "8\n",
      "0\n",
      "8\n",
      "7\n",
      "6\n",
      "5\n",
      "4\n",
      "3\n",
      "2\n"
     ]
    }
   ],
   "source": [
    "print(\"please enter the values\")\n",
    "print(\"press zero to stop entering\")\n",
    "l=[]\n",
    "\n",
    "while True:\n",
    "    x=int(input())\n",
    "    if x==0:\n",
    "        break\n",
    "    else:\n",
    "        l.append(x)\n",
    "        \n",
    "le=len(l)        \n",
    "\n",
    "for i in range(0,le):\n",
    "    print(l[le-1-i])\n",
    "        \n",
    "        \n"
   ]
  },
  {
   "cell_type": "markdown",
   "metadata": {},
   "source": [
    "this is because the list has le elements but they start from 0 and end at le-1"
   ]
  },
  {
   "cell_type": "markdown",
   "metadata": {},
   "source": [
    "## ans to question 18"
   ]
  },
  {
   "cell_type": "code",
   "execution_count": 8,
   "metadata": {},
   "outputs": [
    {
     "name": "stdout",
     "output_type": "stream",
     "text": [
      "w\n",
      "g\n",
      "hingt\n",
      "washington\n",
      "h.s.\n"
     ]
    },
    {
     "ename": "IndexError",
     "evalue": "string index out of range",
     "output_type": "error",
     "traceback": [
      "\u001b[1;31m---------------------------------------------------------------------------\u001b[0m",
      "\u001b[1;31mIndexError\u001b[0m                                Traceback (most recent call last)",
      "\u001b[1;32m<ipython-input-8-10e267a845ab>\u001b[0m in \u001b[0;36m<module>\u001b[1;34m()\u001b[0m\n\u001b[0;32m      5\u001b[0m \u001b[0mprint\u001b[0m\u001b[1;33m(\u001b[0m\u001b[0mname\u001b[0m\u001b[1;33m[\u001b[0m\u001b[1;33m:\u001b[0m\u001b[1;36m10\u001b[0m\u001b[1;33m]\u001b[0m\u001b[1;33m)\u001b[0m\u001b[1;33m\u001b[0m\u001b[0m\n\u001b[0;32m      6\u001b[0m \u001b[0mprint\u001b[0m\u001b[1;33m(\u001b[0m\u001b[0mname\u001b[0m\u001b[1;33m[\u001b[0m\u001b[1;36m15\u001b[0m\u001b[1;33m:\u001b[0m\u001b[1;33m]\u001b[0m\u001b[1;33m)\u001b[0m\u001b[1;33m\u001b[0m\u001b[0m\n\u001b[1;32m----> 7\u001b[1;33m \u001b[0mprint\u001b[0m\u001b[1;33m(\u001b[0m\u001b[0mname\u001b[0m\u001b[1;33m[\u001b[0m\u001b[1;36m19\u001b[0m\u001b[1;33m]\u001b[0m\u001b[1;33m)\u001b[0m\u001b[1;33m\u001b[0m\u001b[0m\n\u001b[0m\u001b[0;32m      8\u001b[0m \u001b[0mlen\u001b[0m\u001b[1;33m(\u001b[0m\u001b[0mname\u001b[0m\u001b[1;33m)\u001b[0m\u001b[1;33m\u001b[0m\u001b[0m\n",
      "\u001b[1;31mIndexError\u001b[0m: string index out of range"
     ]
    }
   ],
   "source": [
    "name=\"washington-lee h.s.\"\n",
    "print(name[0])\n",
    "print(name[6])\n",
    "print(name[3:8])\n",
    "print(name[:10])\n",
    "print(name[15:])\n",
    "print(name[19])\n",
    "len(name)"
   ]
  },
  {
   "cell_type": "markdown",
   "metadata": {},
   "source": [
    "it works on slicing to give out of bound numbers and it returns an empty string but it dors not work in indexing"
   ]
  },
  {
   "cell_type": "code",
   "execution_count": 9,
   "metadata": {},
   "outputs": [
    {
     "data": {
      "text/plain": [
       "'lee'"
      ]
     },
     "execution_count": 9,
     "metadata": {},
     "output_type": "execute_result"
    }
   ],
   "source": [
    "name[11:14]"
   ]
  },
  {
   "cell_type": "code",
   "execution_count": 10,
   "metadata": {},
   "outputs": [
    {
     "data": {
      "text/plain": [
       "'e'"
      ]
     },
     "execution_count": 10,
     "metadata": {},
     "output_type": "execute_result"
    }
   ],
   "source": [
    "var=\"sample\"\n",
    "# we have to return its last character without knowing it length\n",
    "var[-1]"
   ]
  },
  {
   "cell_type": "code",
   "execution_count": 11,
   "metadata": {},
   "outputs": [
    {
     "name": "stdout",
     "output_type": "stream",
     "text": [
      "T\n",
      "q\n",
      "x\n"
     ]
    }
   ],
   "source": [
    "s=\"The quick brown fox jumps over the lazy dog.\"\n",
    "print(s[0])\n",
    "print(s[4])\n",
    "print(s[18])"
   ]
  },
  {
   "cell_type": "code",
   "execution_count": 12,
   "metadata": {},
   "outputs": [
    {
     "data": {
      "text/plain": [
       "'brown'"
      ]
     },
     "execution_count": 12,
     "metadata": {},
     "output_type": "execute_result"
    }
   ],
   "source": [
    "s[10:15]"
   ]
  },
  {
   "cell_type": "code",
   "execution_count": 13,
   "metadata": {},
   "outputs": [
    {
     "data": {
      "text/plain": [
       "'lazy'"
      ]
     },
     "execution_count": 13,
     "metadata": {},
     "output_type": "execute_result"
    }
   ],
   "source": [
    "s[35:39]"
   ]
  },
  {
   "cell_type": "code",
   "execution_count": 14,
   "metadata": {},
   "outputs": [
    {
     "data": {
      "text/plain": [
       "'jumps over the lazy dog.'"
      ]
     },
     "execution_count": 14,
     "metadata": {},
     "output_type": "execute_result"
    }
   ],
   "source": [
    "s[20:]"
   ]
  },
  {
   "cell_type": "code",
   "execution_count": 15,
   "metadata": {},
   "outputs": [
    {
     "data": {
      "text/plain": [
       "44"
      ]
     },
     "execution_count": 15,
     "metadata": {},
     "output_type": "execute_result"
    }
   ],
   "source": [
    "len(s)"
   ]
  },
  {
   "cell_type": "code",
   "execution_count": 16,
   "metadata": {},
   "outputs": [
    {
     "name": "stdout",
     "output_type": "stream",
     "text": [
      "T\n",
      "h\n",
      "e\n",
      " \n",
      "q\n",
      "u\n",
      "i\n",
      "c\n",
      "k\n",
      " \n",
      "b\n",
      "r\n",
      "o\n",
      "w\n",
      "n\n",
      " \n",
      "f\n",
      "o\n",
      "x\n",
      " \n",
      "j\n",
      "u\n",
      "m\n",
      "p\n",
      "s\n",
      " \n",
      "o\n",
      "v\n",
      "e\n",
      "r\n",
      " \n",
      "t\n",
      "h\n",
      "e\n",
      " \n",
      "l\n",
      "a\n",
      "z\n",
      "y\n",
      " \n",
      "d\n",
      "o\n",
      "g\n",
      ".\n"
     ]
    }
   ],
   "source": [
    "for i in range(0,44):\n",
    "    print(s[i])"
   ]
  },
  {
   "cell_type": "code",
   "execution_count": 30,
   "metadata": {},
   "outputs": [
    {
     "name": "stdout",
     "output_type": "stream",
     "text": [
      ".\n",
      "g\n",
      "o\n",
      "d\n",
      " \n",
      "y\n",
      "z\n",
      "a\n",
      "l\n",
      " \n",
      "e\n",
      "h\n",
      "t\n",
      " \n",
      "r\n",
      "e\n",
      "v\n",
      "o\n",
      " \n",
      "s\n",
      "p\n",
      "m\n",
      "u\n",
      "j\n",
      " \n",
      "x\n",
      "o\n",
      "f\n",
      " \n",
      "n\n",
      "w\n",
      "o\n",
      "r\n",
      "b\n",
      " \n",
      "k\n",
      "c\n",
      "i\n",
      "u\n",
      "q\n",
      " \n",
      "e\n",
      "h\n",
      "T\n"
     ]
    }
   ],
   "source": [
    "for i in range(0,44):\n",
    "    print(s[43-i])"
   ]
  },
  {
   "cell_type": "markdown",
   "metadata": {},
   "source": [
    "the range function is not woking in the opposite manner in python 3"
   ]
  },
  {
   "cell_type": "code",
   "execution_count": 32,
   "metadata": {},
   "outputs": [
    {
     "name": "stdout",
     "output_type": "stream",
     "text": [
      "T\n",
      "e\n",
      "q\n",
      "i\n",
      "k\n",
      "b\n",
      "o\n",
      "n\n",
      "f\n",
      "x\n",
      "j\n",
      "m\n",
      "s\n",
      "o\n",
      "e\n",
      " \n",
      "h\n",
      " \n",
      "a\n",
      "y\n",
      "d\n",
      "g\n"
     ]
    }
   ],
   "source": [
    "for i in range(1,23):\n",
    "    print(s[2*i-2])"
   ]
  },
  {
   "cell_type": "markdown",
   "metadata": {},
   "source": [
    "## some extra practice(not to be read)"
   ]
  },
  {
   "cell_type": "code",
   "execution_count": 35,
   "metadata": {},
   "outputs": [
    {
     "name": "stdout",
     "output_type": "stream",
     "text": [
      "the errors {} to fix is 3\n"
     ]
    }
   ],
   "source": [
    "errors=3\n",
    "\n",
    "if errors:\n",
    "    print(\"the errors {} to fix is\",format(errors))\n",
    "else:\n",
    "    print(\"no errors to fix\")"
   ]
  },
  {
   "cell_type": "code",
   "execution_count": 36,
   "metadata": {},
   "outputs": [
    {
     "name": "stdout",
     "output_type": "stream",
     "text": [
      "spam eggs ham "
     ]
    }
   ],
   "source": [
    "for x in [\"spam\",\"eggs\",\"ham\"]:\n",
    "    print(x,end=\" \")"
   ]
  },
  {
   "cell_type": "code",
   "execution_count": 37,
   "metadata": {},
   "outputs": [
    {
     "name": "stdout",
     "output_type": "stream",
     "text": [
      "10\n"
     ]
    }
   ],
   "source": [
    "sum=0\n",
    "for x in [1,2,3,4]:\n",
    "    sum=sum+x\n",
    "print(sum)    "
   ]
  },
  {
   "cell_type": "code",
   "execution_count": 38,
   "metadata": {},
   "outputs": [
    {
     "name": "stdout",
     "output_type": "stream",
     "text": [
      "24\n"
     ]
    }
   ],
   "source": [
    "pro=1\n",
    "for i in [1,2,3,4]:\n",
    "    pro=pro*i\n",
    "print(pro)    "
   ]
  },
  {
   "cell_type": "code",
   "execution_count": 41,
   "metadata": {},
   "outputs": [
    {
     "name": "stdout",
     "output_type": "stream",
     "text": [
      "lumberjack\n",
      "and i'm okay "
     ]
    }
   ],
   "source": [
    "s=\"lumberjack\"\n",
    "t=(\"and\",\"i'm\",\"okay\")\n",
    "\n",
    "for i in s:\n",
    "    print(i,end='')\n",
    "print()    \n",
    "for i in t:\n",
    "    print(i,end=' ')\n",
    "    "
   ]
  },
  {
   "cell_type": "code",
   "execution_count": 44,
   "metadata": {},
   "outputs": [
    {
     "name": "stdout",
     "output_type": "stream",
     "text": [
      "new york city\n",
      "mountain view\n",
      "chicago\n",
      "los angeles\n"
     ]
    }
   ],
   "source": [
    "\n",
    "cities = [ 'new york city' , 'mountain view' , 'chicago' , 'los angeles' ]\n",
    "\n",
    "for city in cities:\n",
    "    print(city)"
   ]
  },
  {
   "cell_type": "code",
   "execution_count": 45,
   "metadata": {},
   "outputs": [
    {
     "name": "stdout",
     "output_type": "stream",
     "text": [
      "hello!\n",
      "hello!\n",
      "hello!\n",
      "hello!\n"
     ]
    }
   ],
   "source": [
    "for i in range(4):\n",
    "    print(\"hello!\")"
   ]
  },
  {
   "cell_type": "code",
   "execution_count": 48,
   "metadata": {},
   "outputs": [
    {
     "name": "stdout",
     "output_type": "stream",
     "text": [
      "rohit good boy\n",
      "mohit bad boy\n"
     ]
    }
   ],
   "source": [
    "n_dict={\"rohit\":\"good boy\",\"mohit\":\"bad boy\"}\n",
    "for i,k in n_dict.items():\n",
    "    print(i,k)"
   ]
  },
  {
   "cell_type": "code",
   "execution_count": 50,
   "metadata": {},
   "outputs": [
    {
     "ename": "TypeError",
     "evalue": "'int' object is not callable",
     "output_type": "error",
     "traceback": [
      "\u001b[1;31m---------------------------------------------------------------------------\u001b[0m",
      "\u001b[1;31mTypeError\u001b[0m                                 Traceback (most recent call last)",
      "\u001b[1;32m<ipython-input-50-99a8c362ec29>\u001b[0m in \u001b[0;36m<module>\u001b[1;34m()\u001b[0m\n\u001b[0;32m      4\u001b[0m \u001b[1;32mwhile\u001b[0m \u001b[1;32mTrue\u001b[0m\u001b[1;33m:\u001b[0m\u001b[1;33m\u001b[0m\u001b[0m\n\u001b[0;32m      5\u001b[0m     \u001b[0mhand\u001b[0m\u001b[1;33m.\u001b[0m\u001b[0mappend\u001b[0m\u001b[1;33m(\u001b[0m\u001b[0mcard_deck\u001b[0m\u001b[1;33m.\u001b[0m\u001b[0mpop\u001b[0m\u001b[1;33m(\u001b[0m\u001b[1;33m)\u001b[0m\u001b[1;33m)\u001b[0m\u001b[1;33m\u001b[0m\u001b[0m\n\u001b[1;32m----> 6\u001b[1;33m     \u001b[1;32mif\u001b[0m \u001b[0msum\u001b[0m\u001b[1;33m(\u001b[0m\u001b[0mhand\u001b[0m\u001b[1;33m)\u001b[0m\u001b[1;33m<=\u001b[0m\u001b[1;36m17\u001b[0m\u001b[1;33m:\u001b[0m\u001b[1;33m\u001b[0m\u001b[0m\n\u001b[0m\u001b[0;32m      7\u001b[0m         \u001b[1;32mbreak\u001b[0m\u001b[1;33m\u001b[0m\u001b[0m\n",
      "\u001b[1;31mTypeError\u001b[0m: 'int' object is not callable"
     ]
    }
   ],
   "source": [
    "card_deck=[2,3,1,5,6]\n",
    "hand=[]\n",
    "\n",
    "while True:\n",
    "    hand.append(card_deck.pop())\n",
    "    if sum(hand)<=17:\n",
    "        break"
   ]
  },
  {
   "cell_type": "code",
   "execution_count": 51,
   "metadata": {},
   "outputs": [
    {
     "data": {
      "text/plain": [
       "[('a', 1), ('b', 2), ('c', 3)]"
      ]
     },
     "execution_count": 51,
     "metadata": {},
     "output_type": "execute_result"
    }
   ],
   "source": [
    "list(zip(['a','b','c'],[1,2,3]))"
   ]
  },
  {
   "cell_type": "code",
   "execution_count": 54,
   "metadata": {},
   "outputs": [
    {
     "name": "stdout",
     "output_type": "stream",
     "text": [
      "a 1\n",
      "b 2\n",
      "c 3\n"
     ]
    }
   ],
   "source": [
    "letters=['a','b','c']\n",
    "numbers=[1,2,3]\n",
    "for i,j in zip(letters,numbers):\n",
    "    print(i,j)"
   ]
  },
  {
   "cell_type": "code",
   "execution_count": 55,
   "metadata": {},
   "outputs": [
    {
     "name": "stdout",
     "output_type": "stream",
     "text": [
      "('a', 'b', 'c') (1, 2, 3)\n"
     ]
    }
   ],
   "source": [
    "some_list=[('a',1),('b',2),('c',3)]\n",
    "i,j=zip(*some_list)\n",
    "print(i,j)"
   ]
  },
  {
   "cell_type": "code",
   "execution_count": 56,
   "metadata": {},
   "outputs": [
    {
     "name": "stdout",
     "output_type": "stream",
     "text": [
      "0 a\n",
      "1 b\n",
      "2 c\n",
      "3 d\n",
      "4 e\n"
     ]
    }
   ],
   "source": [
    "letters=[\"a\",\"b\",\"c\",\"d\",\"e\"]\n",
    "for i,j in enumerate(letters):\n",
    "    print(i,j)"
   ]
  },
  {
   "cell_type": "markdown",
   "metadata": {},
   "source": [
    "## ans to question no 19"
   ]
  },
  {
   "cell_type": "code",
   "execution_count": 7,
   "metadata": {},
   "outputs": [
    {
     "name": "stdout",
     "output_type": "stream",
     "text": [
      "please enter the stringeg gre cg f\n",
      ".--. --..-.. -.-.--. ..-."
     ]
    }
   ],
   "source": [
    "my_dict={'a':'.-','b':'-...','c':'-.-.','d':'-..','e':'.','f':'..-.','g':'--.','h':'....','i':'..','j':'.---','k':'-.-','l':'.-..','m':'--','n':'-.','o':'---','p':'.--.','q':'--.-','r':'.-.','s':'...','t':'-','u':'..-','v':'...-','w':'.--','x':'-..-','y':'-.--','z':'--..','0':'-----','1':'.----','2':'..---','3':'...--','4':'....-','5':'.....','6':'-....','7':'--...','8':'---..','9':'----.',' ':' '}\n",
    "s=input('please enter the string')\n",
    "t=len(s)\n",
    "k=0\n",
    "while True:\n",
    "    print(my_dict[s[k]],end='')\n",
    "    k=k+1\n",
    "    if k==t:\n",
    "        break"
   ]
  },
  {
   "cell_type": "markdown",
   "metadata": {},
   "source": [
    "## ans to question no 20"
   ]
  },
  {
   "cell_type": "code",
   "execution_count": null,
   "metadata": {},
   "outputs": [],
   "source": []
  },
  {
   "cell_type": "markdown",
   "metadata": {},
   "source": [
    "20. Create a program that determines and displays the number of\n",
    "unique characters in a string entered by the user. For example, Hello,\n",
    "World! has 10 unique characters while zzz has only one unique\n",
    "character.Use a dictionary to solve this problem."
   ]
  },
  {
   "cell_type": "code",
   "execution_count": null,
   "metadata": {},
   "outputs": [],
   "source": [
    "my_dict={}\n",
    "string=input(\"please enter the string\")\n",
    "for char in string:\n",
    "    if char not in my_dict:\n",
    "        my_dict[char]=1\n",
    "    else:\n",
    "        my_dict[char]+=1\n",
    "print(len(my_dict.keys()))    "
   ]
  },
  {
   "cell_type": "markdown",
   "metadata": {},
   "source": [
    "## ans to question no 25"
   ]
  },
  {
   "cell_type": "code",
   "execution_count": 1,
   "metadata": {},
   "outputs": [],
   "source": [
    "def func(no,year):\n",
    "    if no==(1 or 3 or 5 or 7 or 8 or 10 or 12):\n",
    "        print(\"31\")\n",
    "    elif no== (4 or 6 or 9 or 11):\n",
    "        print(\"3o\")\n",
    "    else:\n",
    "        if((year%4==0)and(year%100!=0))or(year%400==0):\n",
    "            print(\"28\")\n",
    "        else:\n",
    "            print(\"29\")\n",
    "    \n",
    "    \n"
   ]
  },
  {
   "cell_type": "code",
   "execution_count": 2,
   "metadata": {},
   "outputs": [
    {
     "name": "stdout",
     "output_type": "stream",
     "text": [
      "please enter the month no2\n",
      "please enter the year2016\n",
      "28\n"
     ]
    }
   ],
   "source": [
    "no=int(input('please enter the month no'))\n",
    "year=int(input(\"please enter the year\"))\n",
    "func(no,year)"
   ]
  },
  {
   "cell_type": "markdown",
   "metadata": {},
   "source": [
    "## ans to question no 20"
   ]
  },
  {
   "cell_type": "code",
   "execution_count": 3,
   "metadata": {},
   "outputs": [
    {
     "name": "stdout",
     "output_type": "stream",
     "text": [
      "please enter the stringhello, world!\n",
      "10\n"
     ]
    }
   ],
   "source": [
    "my_dict={}\n",
    "string=input(\"please enter the string\")\n",
    "for char in string:\n",
    "    if char not in my_dict:\n",
    "        my_dict[char]=1\n",
    "    else:\n",
    "        my_dict[char]+=1\n",
    "print(len(my_dict.keys()))    "
   ]
  },
  {
   "cell_type": "markdown",
   "metadata": {},
   "source": [
    "## ans to question no 22"
   ]
  },
  {
   "cell_type": "code",
   "execution_count": 4,
   "metadata": {},
   "outputs": [],
   "source": [
    "def func(string,width):\n",
    "    for i in range(0,width):\n",
    "        print(\" \",end='')\n",
    "    print(string)"
   ]
  },
  {
   "cell_type": "code",
   "execution_count": 5,
   "metadata": {},
   "outputs": [
    {
     "name": "stdout",
     "output_type": "stream",
     "text": [
      "please enter the stringhello\n",
      "please enter the width4\n",
      "    hello\n"
     ]
    }
   ],
   "source": [
    "string=input(\"please enter the string\")\n",
    "width=int(input(\"please enter the width\"))\n",
    "func(string,width)"
   ]
  },
  {
   "cell_type": "markdown",
   "metadata": {},
   "source": [
    "## ans to question no 23"
   ]
  },
  {
   "cell_type": "code",
   "execution_count": 6,
   "metadata": {},
   "outputs": [],
   "source": [
    "def isinteger(check_str):\n",
    "    str=check_str.split(' ')\n",
    "    if len(str)>1:\n",
    "        return False\n",
    "    new_str=str[0][1:]\n",
    "    if str[0][0]== '+'or'-':\n",
    "        \n",
    "        for char in new_str:\n",
    "            if char not in '0123456789':\n",
    "                return False\n",
    "            else:\n",
    "                return True\n",
    "    else:        \n",
    "        for char in new_str:\n",
    "            if char not in '0123456789':\n",
    "                return False\n",
    "            else:\n",
    "                return True"
   ]
  },
  {
   "cell_type": "code",
   "execution_count": 7,
   "metadata": {},
   "outputs": [
    {
     "name": "stdout",
     "output_type": "stream",
     "text": [
      "please enter the string23 45\n"
     ]
    },
    {
     "data": {
      "text/plain": [
       "False"
      ]
     },
     "execution_count": 7,
     "metadata": {},
     "output_type": "execute_result"
    }
   ],
   "source": [
    "string=input(\"please enter the string\")\n",
    "isinteger(string)"
   ]
  },
  {
   "cell_type": "markdown",
   "metadata": {},
   "source": [
    "## ans to no plate question"
   ]
  },
  {
   "cell_type": "code",
   "execution_count": 8,
   "metadata": {},
   "outputs": [
    {
     "name": "stdout",
     "output_type": "stream",
     "text": [
      "5555bpo"
     ]
    }
   ],
   "source": [
    "import random\n",
    "string='abcdefghijklmnopqrstuvwxyz'\n",
    "choice=random.randint(0,1)\n",
    "if choice==0:\n",
    "    for i in range(0,3):\n",
    "        print(random.choice(string),end='')\n",
    "    for i in range(0,3):\n",
    "        print(random.randint(0,9),end='')\n",
    "if choice==1:\n",
    "    for i in range(0,4):\n",
    "        print(random.randint(0,9),end='')\n",
    "    for i in range(0,3):\n",
    "        print(random.choice(string),end='')\n",
    "        \n",
    " "
   ]
  },
  {
   "cell_type": "markdown",
   "metadata": {},
   "source": [
    "## ans to question no 24"
   ]
  },
  {
   "cell_type": "code",
   "execution_count": 10,
   "metadata": {},
   "outputs": [],
   "source": [
    "def prime(n):\n",
    "    flag=0\n",
    "    for i in range(2,n):\n",
    "        if n%i==0:\n",
    "            flag=flag+1\n",
    "    if flag>0:\n",
    "        return True\n",
    "    else :\n",
    "        return False\n",
    "    \n",
    "    "
   ]
  },
  {
   "cell_type": "code",
   "execution_count": 11,
   "metadata": {},
   "outputs": [
    {
     "name": "stdout",
     "output_type": "stream",
     "text": [
      "please enter the number\n",
      "23\n",
      "the no is prime\n"
     ]
    }
   ],
   "source": [
    "print(\"please enter the number\")\n",
    "n=int(input())\n",
    "t=prime(n)\n",
    "if t==True:\n",
    "    print(\"the no is composite\")\n",
    "else:\n",
    "    print(\"the no is prime\")"
   ]
  },
  {
   "cell_type": "code",
   "execution_count": null,
   "metadata": {},
   "outputs": [],
   "source": []
  }
 ],
 "metadata": {
  "kernelspec": {
   "display_name": "Python 3",
   "language": "python",
   "name": "python3"
  },
  "language_info": {
   "codemirror_mode": {
    "name": "ipython",
    "version": 3
   },
   "file_extension": ".py",
   "mimetype": "text/x-python",
   "name": "python",
   "nbconvert_exporter": "python",
   "pygments_lexer": "ipython3",
   "version": "3.6.5"
  }
 },
 "nbformat": 4,
 "nbformat_minor": 2
}
